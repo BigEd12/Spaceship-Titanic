{
 "cells": [
  {
   "cell_type": "code",
   "execution_count": 4,
   "metadata": {},
   "outputs": [],
   "source": [
    "import pandas as pd\n",
    "import numpy as np"
   ]
  },
  {
   "cell_type": "code",
   "execution_count": 5,
   "metadata": {},
   "outputs": [],
   "source": [
    "model_names = ['DT', 'LOG', 'RF', 'XGB']\n",
    "submission_dict = {}\n",
    "\n",
    "for name in model_names:\n",
    "    path = f'../../data/submissions/{name}_train_test_data_1.csv'\n",
    "    \n",
    "    df = pd.read_csv(path)\n",
    "    \n",
    "    submission_dict[name] = df"
   ]
  },
  {
   "cell_type": "code",
   "execution_count": 6,
   "metadata": {},
   "outputs": [],
   "source": [
    "dfs = []\n",
    "\n",
    "for name, df in submission_dict.items():\n",
    "    df = df.rename(columns={'Transported': name})\n",
    "    dfs.append(df)\n",
    "\n",
    "merged_df = pd.concat(dfs, axis=1).reset_index(drop=False)\n",
    "\n",
    "df = merged_df[['PassengerId', 'DT', 'LOG', 'RF', 'XGB']]"
   ]
  },
  {
   "cell_type": "code",
   "execution_count": 7,
   "metadata": {},
   "outputs": [],
   "source": [
    "df['Transported'] = df.apply(lambda row: row.value_counts().index[0], axis=1)"
   ]
  },
  {
   "cell_type": "code",
   "execution_count": 8,
   "metadata": {},
   "outputs": [
    {
     "data": {
      "text/plain": [
       "'Submission file generated successfully.'"
      ]
     },
     "metadata": {},
     "output_type": "display_data"
    }
   ],
   "source": [
    "submission = df[['PassengerId', 'Transported']]\n",
    "\n",
    "submission.to_csv(f'../../data/submissions/MAJORITY_train_test_data_1.csv', index=False)\n",
    "display(\"Submission file generated successfully.\")"
   ]
  },
  {
   "cell_type": "code",
   "execution_count": null,
   "metadata": {},
   "outputs": [],
   "source": []
  }
 ],
 "metadata": {
  "kernelspec": {
   "display_name": "machine_learning",
   "language": "python",
   "name": "python3"
  },
  "language_info": {
   "codemirror_mode": {
    "name": "ipython",
    "version": 3
   },
   "file_extension": ".py",
   "mimetype": "text/x-python",
   "name": "python",
   "nbconvert_exporter": "python",
   "pygments_lexer": "ipython3",
   "version": "3.12.0"
  }
 },
 "nbformat": 4,
 "nbformat_minor": 2
}
