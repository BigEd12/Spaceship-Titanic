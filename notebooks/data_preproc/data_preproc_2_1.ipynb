{
 "cells": [
  {
   "cell_type": "markdown",
   "metadata": {},
   "source": [
    "# Imports"
   ]
  },
  {
   "cell_type": "code",
   "execution_count": 265,
   "metadata": {},
   "outputs": [],
   "source": [
    "import pandas as pd\n",
    "import numpy as np\n",
    "import matplotlib.pyplot as plt\n",
    "\n",
    "import seaborn as sns\n",
    "\n",
    "import scipy.stats as stats\n",
    "\n",
    "from sklearn.preprocessing import OneHotEncoder\n",
    "\n",
    "from sklearn.ensemble import RandomForestRegressor, RandomForestClassifier\n",
    "from sklearn.experimental import enable_iterative_imputer\n",
    "from sklearn.impute import IterativeImputer\n",
    "\n",
    "pd.set_option('display.max_columns', None)"
   ]
  },
  {
   "cell_type": "markdown",
   "metadata": {},
   "source": [
    "# Load Data\n",
    "\n",
    "- Load Train\n",
    "- Load Test\n",
    "- Combine Train and Test"
   ]
  },
  {
   "cell_type": "code",
   "execution_count": 266,
   "metadata": {},
   "outputs": [
    {
     "data": {
      "text/plain": [
       "((8693, 14), (4277, 13))"
      ]
     },
     "execution_count": 266,
     "metadata": {},
     "output_type": "execute_result"
    }
   ],
   "source": [
    "train = pd.read_csv('../../data/original_data/train.csv')\n",
    "test = pd.read_csv('../../data/original_data/test.csv')\n",
    "\n",
    "len_train = len(train)\n",
    "len_test = len(test)\n",
    "\n",
    "train.shape, test.shape"
   ]
  },
  {
   "cell_type": "code",
   "execution_count": 267,
   "metadata": {},
   "outputs": [],
   "source": [
    "df = pd.concat([train, test])"
   ]
  },
  {
   "cell_type": "markdown",
   "metadata": {},
   "source": [
    "## Confirm Concatenated Shape"
   ]
  },
  {
   "cell_type": "code",
   "execution_count": 268,
   "metadata": {},
   "outputs": [
    {
     "data": {
      "text/plain": [
       "True"
      ]
     },
     "execution_count": 268,
     "metadata": {},
     "output_type": "execute_result"
    }
   ],
   "source": [
    "df.shape[0] == test.shape[0] + train.shape[0]"
   ]
  },
  {
   "cell_type": "code",
   "execution_count": 269,
   "metadata": {},
   "outputs": [
    {
     "data": {
      "text/html": [
       "<div>\n",
       "<style scoped>\n",
       "    .dataframe tbody tr th:only-of-type {\n",
       "        vertical-align: middle;\n",
       "    }\n",
       "\n",
       "    .dataframe tbody tr th {\n",
       "        vertical-align: top;\n",
       "    }\n",
       "\n",
       "    .dataframe thead th {\n",
       "        text-align: right;\n",
       "    }\n",
       "</style>\n",
       "<table border=\"1\" class=\"dataframe\">\n",
       "  <thead>\n",
       "    <tr style=\"text-align: right;\">\n",
       "      <th></th>\n",
       "      <th>PassengerId</th>\n",
       "      <th>HomePlanet</th>\n",
       "      <th>CryoSleep</th>\n",
       "      <th>Cabin</th>\n",
       "      <th>Destination</th>\n",
       "      <th>Age</th>\n",
       "      <th>VIP</th>\n",
       "      <th>RoomService</th>\n",
       "      <th>FoodCourt</th>\n",
       "      <th>ShoppingMall</th>\n",
       "      <th>Spa</th>\n",
       "      <th>VRDeck</th>\n",
       "      <th>Name</th>\n",
       "      <th>Transported</th>\n",
       "    </tr>\n",
       "  </thead>\n",
       "  <tbody>\n",
       "    <tr>\n",
       "      <th>0</th>\n",
       "      <td>0001_01</td>\n",
       "      <td>Europa</td>\n",
       "      <td>False</td>\n",
       "      <td>B/0/P</td>\n",
       "      <td>TRAPPIST-1e</td>\n",
       "      <td>39.0</td>\n",
       "      <td>False</td>\n",
       "      <td>0.0</td>\n",
       "      <td>0.0</td>\n",
       "      <td>0.0</td>\n",
       "      <td>0.0</td>\n",
       "      <td>0.0</td>\n",
       "      <td>Maham Ofracculy</td>\n",
       "      <td>False</td>\n",
       "    </tr>\n",
       "    <tr>\n",
       "      <th>1</th>\n",
       "      <td>0002_01</td>\n",
       "      <td>Earth</td>\n",
       "      <td>False</td>\n",
       "      <td>F/0/S</td>\n",
       "      <td>TRAPPIST-1e</td>\n",
       "      <td>24.0</td>\n",
       "      <td>False</td>\n",
       "      <td>109.0</td>\n",
       "      <td>9.0</td>\n",
       "      <td>25.0</td>\n",
       "      <td>549.0</td>\n",
       "      <td>44.0</td>\n",
       "      <td>Juanna Vines</td>\n",
       "      <td>True</td>\n",
       "    </tr>\n",
       "    <tr>\n",
       "      <th>2</th>\n",
       "      <td>0003_01</td>\n",
       "      <td>Europa</td>\n",
       "      <td>False</td>\n",
       "      <td>A/0/S</td>\n",
       "      <td>TRAPPIST-1e</td>\n",
       "      <td>58.0</td>\n",
       "      <td>True</td>\n",
       "      <td>43.0</td>\n",
       "      <td>3576.0</td>\n",
       "      <td>0.0</td>\n",
       "      <td>6715.0</td>\n",
       "      <td>49.0</td>\n",
       "      <td>Altark Susent</td>\n",
       "      <td>False</td>\n",
       "    </tr>\n",
       "    <tr>\n",
       "      <th>3</th>\n",
       "      <td>0003_02</td>\n",
       "      <td>Europa</td>\n",
       "      <td>False</td>\n",
       "      <td>A/0/S</td>\n",
       "      <td>TRAPPIST-1e</td>\n",
       "      <td>33.0</td>\n",
       "      <td>False</td>\n",
       "      <td>0.0</td>\n",
       "      <td>1283.0</td>\n",
       "      <td>371.0</td>\n",
       "      <td>3329.0</td>\n",
       "      <td>193.0</td>\n",
       "      <td>Solam Susent</td>\n",
       "      <td>False</td>\n",
       "    </tr>\n",
       "    <tr>\n",
       "      <th>4</th>\n",
       "      <td>0004_01</td>\n",
       "      <td>Earth</td>\n",
       "      <td>False</td>\n",
       "      <td>F/1/S</td>\n",
       "      <td>TRAPPIST-1e</td>\n",
       "      <td>16.0</td>\n",
       "      <td>False</td>\n",
       "      <td>303.0</td>\n",
       "      <td>70.0</td>\n",
       "      <td>151.0</td>\n",
       "      <td>565.0</td>\n",
       "      <td>2.0</td>\n",
       "      <td>Willy Santantines</td>\n",
       "      <td>True</td>\n",
       "    </tr>\n",
       "  </tbody>\n",
       "</table>\n",
       "</div>"
      ],
      "text/plain": [
       "  PassengerId HomePlanet CryoSleep  Cabin  Destination   Age    VIP  \\\n",
       "0     0001_01     Europa     False  B/0/P  TRAPPIST-1e  39.0  False   \n",
       "1     0002_01      Earth     False  F/0/S  TRAPPIST-1e  24.0  False   \n",
       "2     0003_01     Europa     False  A/0/S  TRAPPIST-1e  58.0   True   \n",
       "3     0003_02     Europa     False  A/0/S  TRAPPIST-1e  33.0  False   \n",
       "4     0004_01      Earth     False  F/1/S  TRAPPIST-1e  16.0  False   \n",
       "\n",
       "   RoomService  FoodCourt  ShoppingMall     Spa  VRDeck               Name  \\\n",
       "0          0.0        0.0           0.0     0.0     0.0    Maham Ofracculy   \n",
       "1        109.0        9.0          25.0   549.0    44.0       Juanna Vines   \n",
       "2         43.0     3576.0           0.0  6715.0    49.0      Altark Susent   \n",
       "3          0.0     1283.0         371.0  3329.0   193.0       Solam Susent   \n",
       "4        303.0       70.0         151.0   565.0     2.0  Willy Santantines   \n",
       "\n",
       "  Transported  \n",
       "0       False  \n",
       "1        True  \n",
       "2       False  \n",
       "3       False  \n",
       "4        True  "
      ]
     },
     "execution_count": 269,
     "metadata": {},
     "output_type": "execute_result"
    }
   ],
   "source": [
    "df.head()"
   ]
  },
  {
   "cell_type": "markdown",
   "metadata": {},
   "source": [
    "# Feature Engineering\n",
    "\n",
    "Early Feature Engineering to include:\n",
    "\n",
    "- LastName\n",
    "- SoloPassenger\n",
    "- GroupSize\n",
    "- CabinDeck\n",
    "- CabinNum\n",
    "- CabinSide"
   ]
  },
  {
   "cell_type": "code",
   "execution_count": 270,
   "metadata": {},
   "outputs": [],
   "source": [
    "# Extract the Last Name to be used later\n",
    "df['LastName'] = df['Name'].apply(lambda x: x.split(' ')[1] if not pd.isna(x) else np.nan)\n",
    "\n",
    "# Create Passenger Group from gggg of PassengerId\n",
    "df['PassengerGroup'] = df['PassengerId'].apply(lambda x: x.split('_')[0])\n",
    "\n",
    "# Take Group size by number of passengers in group\n",
    "group_size = df.groupby('PassengerGroup').size().reset_index(name='GroupSize')\n",
    "df = df.merge(group_size, on='PassengerGroup')\n",
    "\n",
    "# Determine if the passenger is riding solo\n",
    "df['SoloPassenger'] = df['GroupSize'].apply(lambda x: 1 if x == 1 else 0)\n",
    "\n",
    "# Split Cabin into three separate columns\n",
    "df[['CabinDeck', 'CabinNum', 'CabinSide']] = df['Cabin'].str.split('/', expand=True)"
   ]
  },
  {
   "cell_type": "markdown",
   "metadata": {},
   "source": [
    "# Null Values"
   ]
  },
  {
   "cell_type": "markdown",
   "metadata": {},
   "source": [
    "## HomePlanet\n",
    "\n",
    "- Check for passengers in same PassengerGroup\n",
    "- Check for passengers with same surname\n",
    "- Use mode to imput"
   ]
  },
  {
   "cell_type": "code",
   "execution_count": 271,
   "metadata": {},
   "outputs": [
    {
     "data": {
      "text/plain": [
       "'The number of missing HomePlanet Values before imputation by PassengerGroup is: 288'"
      ]
     },
     "metadata": {},
     "output_type": "display_data"
    },
    {
     "name": "stderr",
     "output_type": "stream",
     "text": [
      "/tmp/ipykernel_14506/3692705628.py:3: FutureWarning: Downcasting object dtype arrays on .fillna, .ffill, .bfill is deprecated and will change in a future version. Call result.infer_objects(copy=False) instead. To opt-in to the future behavior, set `pd.set_option('future.no_silent_downcasting', True)`\n",
      "  df['HomePlanet'] = df.groupby('PassengerGroup')['HomePlanet'].transform(lambda x: x.fillna(x.mode()[0] if not x.mode().empty else np.nan))\n"
     ]
    },
    {
     "data": {
      "text/plain": [
       "'The number of missing HomePlanet Values after imputation by PassengerGroup is: 157'"
      ]
     },
     "metadata": {},
     "output_type": "display_data"
    },
    {
     "data": {
      "text/plain": [
       "'The number of missing HomePlanet Values after imputation by HomePlanet and LastNAme is: 13'"
      ]
     },
     "metadata": {},
     "output_type": "display_data"
    },
    {
     "data": {
      "text/plain": [
       "'The number of missing HomePlanet Values after imputation by mode is: 0'"
      ]
     },
     "metadata": {},
     "output_type": "display_data"
    }
   ],
   "source": [
    "display(f'The number of missing HomePlanet Values before imputation by PassengerGroup is: {df['HomePlanet'].isna().sum()}')\n",
    "\n",
    "df['HomePlanet'] = df.groupby('PassengerGroup')['HomePlanet'].transform(lambda x: x.fillna(x.mode()[0] if not x.mode().empty else np.nan))\n",
    "\n",
    "display(f'The number of missing HomePlanet Values after imputation by PassengerGroup is: {df['HomePlanet'].isna().sum()}')\n",
    "# -----------------------------------------------------------------------------------------------------------------------------------------------------\n",
    "\n",
    "def impute_home_planet(row, df):\n",
    "    if pd.isna(row['HomePlanet']):\n",
    "        last_name = row['LastName']\n",
    "        same_last_name = df[(df['LastName'] == last_name) & (df['HomePlanet'].notna())]\n",
    "        if not same_last_name.empty:\n",
    "            return same_last_name['HomePlanet'].values[0]\n",
    "    return row['HomePlanet']\n",
    "\n",
    "\n",
    "df['HomePlanet'] = df.apply(lambda row: impute_home_planet(row, df), axis=1)\n",
    "\n",
    "display(f'The number of missing HomePlanet Values after imputation by HomePlanet and LastNAme is: {df['HomePlanet'].isna().sum()}')\n",
    "# -----------------------------------------------------------------------------------------------------------------------------------------------------\n",
    "\n",
    "df['HomePlanet'] = df['HomePlanet'].fillna(df['HomePlanet'].mode()[0])\n",
    "\n",
    "display(f'The number of missing HomePlanet Values after imputation by mode is: {df['HomePlanet'].isna().sum()}')"
   ]
  },
  {
   "cell_type": "markdown",
   "metadata": {},
   "source": [
    "## Destination\n",
    "\n",
    "- Check for passengers in same PassengerGroup\n",
    "- Check for passengers with same surname\n",
    "- Use mode to imput"
   ]
  },
  {
   "cell_type": "code",
   "execution_count": 272,
   "metadata": {},
   "outputs": [
    {
     "data": {
      "text/plain": [
       "'The number of missing Destination Values before imputation by PassengerGroup is: 274'"
      ]
     },
     "metadata": {},
     "output_type": "display_data"
    },
    {
     "name": "stderr",
     "output_type": "stream",
     "text": [
      "/tmp/ipykernel_14506/3044108312.py:3: FutureWarning: Downcasting object dtype arrays on .fillna, .ffill, .bfill is deprecated and will change in a future version. Call result.infer_objects(copy=False) instead. To opt-in to the future behavior, set `pd.set_option('future.no_silent_downcasting', True)`\n",
      "  df['Destination'] = df.groupby('PassengerGroup')['Destination'].transform(lambda x: x.fillna(x.mode()[0] if not x.mode().empty else np.nan))\n"
     ]
    },
    {
     "data": {
      "text/plain": [
       "'The number of missing Destination Values after imputation by PassengerGroup is: 154'"
      ]
     },
     "metadata": {},
     "output_type": "display_data"
    },
    {
     "data": {
      "text/plain": [
       "'The number of missing Destination Values after imputation by Destination and LastName is: 6'"
      ]
     },
     "metadata": {},
     "output_type": "display_data"
    },
    {
     "data": {
      "text/plain": [
       "'The number of missing Destination Values after imputation by mode is: 0'"
      ]
     },
     "metadata": {},
     "output_type": "display_data"
    }
   ],
   "source": [
    "display(f'The number of missing Destination Values before imputation by PassengerGroup is: {df['Destination'].isna().sum()}')\n",
    "\n",
    "df['Destination'] = df.groupby('PassengerGroup')['Destination'].transform(lambda x: x.fillna(x.mode()[0] if not x.mode().empty else np.nan))\n",
    "\n",
    "display(f'The number of missing Destination Values after imputation by PassengerGroup is: {df['Destination'].isna().sum()}')\n",
    "# -----------------------------------------------------------------------------------------------------------------------------------------------------\n",
    "\n",
    "def impute_destination(row, df):\n",
    "    if pd.isna(row['Destination']):\n",
    "        last_name = row['LastName']\n",
    "        same_last_name = df[(df['LastName'] == last_name) & (df['Destination'].notna())]\n",
    "        if not same_last_name.empty:\n",
    "            return same_last_name['Destination'].values[0]\n",
    "    return row['Destination']\n",
    "\n",
    "\n",
    "df['Destination'] = df.apply(lambda row: impute_destination(row, df), axis=1)\n",
    "\n",
    "display(f'The number of missing Destination Values after imputation by Destination and LastName is: {df['Destination'].isna().sum()}')\n",
    "# -----------------------------------------------------------------------------------------------------------------------------------------------------\n",
    "\n",
    "df['Destination'] = df['Destination'].fillna(df['Destination'].mode()[0])\n",
    "\n",
    "display(f'The number of missing Destination Values after imputation by mode is: {df['Destination'].isna().sum()}')"
   ]
  },
  {
   "cell_type": "markdown",
   "metadata": {},
   "source": [
    "## Cabin"
   ]
  },
  {
   "cell_type": "markdown",
   "metadata": {},
   "source": [
    "### Deck"
   ]
  },
  {
   "cell_type": "code",
   "execution_count": 273,
   "metadata": {},
   "outputs": [
    {
     "data": {
      "text/plain": [
       "'The number of missing CabinDeck Values before imputation is: 299'"
      ]
     },
     "metadata": {},
     "output_type": "display_data"
    },
    {
     "name": "stderr",
     "output_type": "stream",
     "text": [
      "/tmp/ipykernel_14506/1203262168.py:3: FutureWarning: Downcasting object dtype arrays on .fillna, .ffill, .bfill is deprecated and will change in a future version. Call result.infer_objects(copy=False) instead. To opt-in to the future behavior, set `pd.set_option('future.no_silent_downcasting', True)`\n",
      "  df['CabinDeck'] = df.groupby('PassengerGroup')['CabinDeck'].transform(lambda x: x.fillna(x.mode()[0] if not x.mode().empty else np.nan))\n"
     ]
    },
    {
     "data": {
      "text/plain": [
       "'The number of missing CabinDeck Values after imputation by PassengerGroup is: 162'"
      ]
     },
     "metadata": {},
     "output_type": "display_data"
    },
    {
     "data": {
      "text/plain": [
       "'The number of missing CabinDeck values after imputation by LastName is: 5'"
      ]
     },
     "metadata": {},
     "output_type": "display_data"
    },
    {
     "name": "stderr",
     "output_type": "stream",
     "text": [
      "/tmp/ipykernel_14506/1203262168.py:26: FutureWarning: A value is trying to be set on a copy of a DataFrame or Series through chained assignment using an inplace method.\n",
      "The behavior will change in pandas 3.0. This inplace method will never work because the intermediate object on which we are setting values always behaves as a copy.\n",
      "\n",
      "For example, when doing 'df[col].method(value, inplace=True)', try using 'df.method({col: value}, inplace=True)' or df[col] = df[col].method(value) instead, to perform the operation inplace on the original object.\n",
      "\n",
      "\n",
      "  df['CabinDeck'].fillna(mode_deck, inplace=True)\n"
     ]
    },
    {
     "data": {
      "text/plain": [
       "'The number of missing CabinDeck values after imputation by mode is: 0'"
      ]
     },
     "metadata": {},
     "output_type": "display_data"
    }
   ],
   "source": [
    "display(f'The number of missing CabinDeck Values before imputation is: {df['CabinDeck'].isna().sum()}')\n",
    "\n",
    "df['CabinDeck'] = df.groupby('PassengerGroup')['CabinDeck'].transform(lambda x: x.fillna(x.mode()[0] if not x.mode().empty else np.nan))\n",
    "\n",
    "display(f'The number of missing CabinDeck Values after imputation by PassengerGroup is: {df['CabinDeck'].isna().sum()}')\n",
    "# -----------------------------------------------------------------------------------------------------------------------------------------------------\n",
    "\n",
    "def impute_deck(row, df):\n",
    "    if pd.isna(row['CabinDeck']):\n",
    "        last_name = row['LastName']\n",
    "        same_last_name = df[(df['LastName'] == last_name) & (df['CabinDeck'].notna())]\n",
    "        if not same_last_name.empty:\n",
    "            return same_last_name['CabinDeck'].values[0]\n",
    "    return row['CabinDeck']\n",
    "\n",
    "\n",
    "df['CabinDeck'] = df.apply(lambda row: impute_deck(row, df), axis=1)\n",
    "\n",
    "missing_decks_after_first_imputation = df['CabinDeck'].isna().sum()\n",
    "\n",
    "display(f'The number of missing CabinDeck values after imputation by LastName is: {missing_decks_after_first_imputation}')\n",
    "# -----------------------------------------------------------------------------------------------------------------------------------------------------\n",
    "\n",
    "if missing_decks_after_first_imputation > 0:\n",
    "    mode_deck = df['CabinDeck'].mode()[0]\n",
    "    df['CabinDeck'].fillna(mode_deck, inplace=True)\n",
    "\n",
    "missing_decks_after_mode_imputation = df['CabinDeck'].isna().sum()\n",
    "display(f'The number of missing CabinDeck values after imputation by mode is: {missing_decks_after_mode_imputation}')"
   ]
  },
  {
   "cell_type": "markdown",
   "metadata": {},
   "source": [
    "### Side"
   ]
  },
  {
   "cell_type": "code",
   "execution_count": 274,
   "metadata": {},
   "outputs": [
    {
     "data": {
      "text/plain": [
       "'The number of missing CabinSide Values before imputation by PassengerGroup is: 299'"
      ]
     },
     "metadata": {},
     "output_type": "display_data"
    },
    {
     "name": "stderr",
     "output_type": "stream",
     "text": [
      "/tmp/ipykernel_14506/991217689.py:3: FutureWarning: Downcasting object dtype arrays on .fillna, .ffill, .bfill is deprecated and will change in a future version. Call result.infer_objects(copy=False) instead. To opt-in to the future behavior, set `pd.set_option('future.no_silent_downcasting', True)`\n",
      "  df['CabinSide'] = df.groupby('PassengerGroup')['CabinSide'].transform(lambda x: x.fillna(x.mode()[0] if not x.mode().empty else np.nan))\n"
     ]
    },
    {
     "data": {
      "text/plain": [
       "'The number of missing CabinSide Values after imputation by PassengerGroup is: 162'"
      ]
     },
     "metadata": {},
     "output_type": "display_data"
    },
    {
     "data": {
      "text/plain": [
       "'The number of missing CabinSide values after imputation imputation by LastName is: 5'"
      ]
     },
     "metadata": {},
     "output_type": "display_data"
    },
    {
     "data": {
      "text/plain": [
       "'The number of missing CabinSide values after imputation by mode is: 0'"
      ]
     },
     "metadata": {},
     "output_type": "display_data"
    }
   ],
   "source": [
    "display(f'The number of missing CabinSide Values before imputation by PassengerGroup is: {df['CabinSide'].isna().sum()}')\n",
    "\n",
    "df['CabinSide'] = df.groupby('PassengerGroup')['CabinSide'].transform(lambda x: x.fillna(x.mode()[0] if not x.mode().empty else np.nan))\n",
    "\n",
    "display(f'The number of missing CabinSide Values after imputation by PassengerGroup is: {df['CabinSide'].isna().sum()}')\n",
    "# -----------------------------------------------------------------------------------------------------------------------------------------------------\n",
    "\n",
    "def impute_side(row, df):\n",
    "    if pd.isna(row['CabinSide']):\n",
    "        last_name = row['LastName']\n",
    "        same_last_name = df[(df['LastName'] == last_name) & (df['CabinSide'].notna())]\n",
    "        if not same_last_name.empty:\n",
    "            return same_last_name['CabinSide'].values[0]\n",
    "    return row['CabinSide']\n",
    "\n",
    "df['CabinSide'] = df.apply(lambda row: impute_side(row, df), axis=1)\n",
    "missing_sides_after_first_imputation = df['CabinSide'].isna().sum()\n",
    "\n",
    "display(f'The number of missing CabinSide values after imputation imputation by LastName is: {missing_sides_after_first_imputation}')\n",
    "# -----------------------------------------------------------------------------------------------------------------------------------------------------\n",
    "\n",
    "if missing_sides_after_first_imputation > 0:\n",
    "    mode_sides = df['CabinSide'].mode()[0]\n",
    "    df['CabinSide'] = df['CabinSide'].fillna(mode_sides)\n",
    "\n",
    "missing_sides_after_mode_imputation = df['CabinSide'].isna().sum()\n",
    "display(f'The number of missing CabinSide values after imputation by mode is: {missing_sides_after_mode_imputation}')"
   ]
  },
  {
   "cell_type": "markdown",
   "metadata": {},
   "source": [
    "### Num"
   ]
  },
  {
   "cell_type": "code",
   "execution_count": 275,
   "metadata": {},
   "outputs": [
    {
     "name": "stdout",
     "output_type": "stream",
     "text": [
      "The number of missing CabinNum values before imputation is: 299\n"
     ]
    },
    {
     "name": "stderr",
     "output_type": "stream",
     "text": [
      "/tmp/ipykernel_14506/60205148.py:3: FutureWarning: Downcasting object dtype arrays on .fillna, .ffill, .bfill is deprecated and will change in a future version. Call result.infer_objects(copy=False) instead. To opt-in to the future behavior, set `pd.set_option('future.no_silent_downcasting', True)`\n",
      "  df['CabinNum'] = df.groupby('PassengerGroup')['CabinNum'].transform(lambda x: x.fillna(x.mode()[0] if not x.mode().empty else np.nan))\n"
     ]
    },
    {
     "name": "stdout",
     "output_type": "stream",
     "text": [
      "The number of missing CabinNum values after imputation by PassengrGroupis: 162\n",
      "The number of missing CabinNum values after imputation by LastName is: 5\n",
      "The number of missing CabinNum values after imputation by mode is: 0\n"
     ]
    }
   ],
   "source": [
    "print(f'The number of missing CabinNum values before imputation is: {df[\"CabinNum\"].isna().sum()}')\n",
    "\n",
    "df['CabinNum'] = df.groupby('PassengerGroup')['CabinNum'].transform(lambda x: x.fillna(x.mode()[0] if not x.mode().empty else np.nan))\n",
    "\n",
    "print(f'The number of missing CabinNum values after imputation by PassengrGroupis: {df[\"CabinNum\"].isna().sum()}')\n",
    "# -----------------------------------------------------------------------------------------------------------------------------------------------------\n",
    "\n",
    "def impute_num(row, df):\n",
    "    if pd.isna(row['CabinNum']):\n",
    "        last_name = row['LastName']\n",
    "        same_last_name = df[(df['LastName'] == last_name) & (df['CabinNum'].notna())]\n",
    "        if not same_last_name.empty:\n",
    "            return same_last_name['CabinNum'].values[0]\n",
    "    return row['CabinNum']\n",
    "\n",
    "df['CabinNum'] = df.apply(lambda row: impute_num(row, df), axis=1)\n",
    "\n",
    "missing_num_after_first_imputation = df['CabinNum'].isna().sum()\n",
    "\n",
    "print(f'The number of missing CabinNum values after imputation by LastName is: {missing_num_after_first_imputation}')\n",
    "# -----------------------------------------------------------------------------------------------------------------------------------------------------\n",
    "if missing_num_after_first_imputation > 0:\n",
    "    mode_num = df['CabinNum'].mode()[0]\n",
    "    df['CabinNum'] = df['CabinNum'].fillna(mode_num)\n",
    "\n",
    "missing_num_after_mode_imputation = df['CabinNum'].isna().sum()\n",
    "\n",
    "print(f'The number of missing CabinNum values after imputation by mode is: {missing_num_after_mode_imputation}')\n",
    "df['CabinNum'] = df['CabinNum'].astype(int)"
   ]
  },
  {
   "cell_type": "markdown",
   "metadata": {},
   "source": [
    "## RF Imputation\n",
    "\n",
    "- CryoSleep\n",
    "- Age\n",
    "- RoomService\n",
    "- FoodCourt\n",
    "- ShoppingMall\n",
    "- VRDeck\n",
    "- Spa"
   ]
  },
  {
   "cell_type": "code",
   "execution_count": 280,
   "metadata": {},
   "outputs": [],
   "source": [
    "df['CryoSleep'] = df['CryoSleep'].astype('float')\n",
    "\n",
    "rf_regressor = RandomForestRegressor(n_estimators=100, random_state=0)\n",
    "rf_classifier = RandomForestClassifier(n_estimators=100, random_state=0)\n",
    "\n",
    "imputer = IterativeImputer(estimator=rf_regressor, random_state=0)\n",
    "\n",
    "numerical_cols = [\"Age\", \"RoomService\", \"FoodCourt\", \"ShoppingMall\", \"VRDeck\", \"Spa\"]\n",
    "\n",
    "df[numerical_cols] = imputer.fit_transform(df[numerical_cols])\n",
    "\n",
    "cryo_df = pd.DataFrame(df['CryoSleep'], columns=['CryoSleep'])\n",
    "\n",
    "imputer_categorical = IterativeImputer(estimator=rf_classifier, random_state=0)\n",
    "cryo_df_imputed = imputer_categorical.fit_transform(cryo_df)\n",
    "\n",
    "cryo_df_imputed_rounded = np.round(cryo_df_imputed)\n",
    "df['CryoSleep'] = np.where(df['CryoSleep'].isna(), np.nan, cryo_df_imputed_rounded)\n",
    "\n"
   ]
  },
  {
   "cell_type": "code",
   "execution_count": 282,
   "metadata": {},
   "outputs": [
    {
     "data": {
      "text/plain": [
       "'VIPs spent 4649.59. On the other hand, non-VIPs spent 1391.3.'"
      ]
     },
     "metadata": {},
     "output_type": "display_data"
    }
   ],
   "source": [
    "df_VIP = df[df['VIP'] == True]\n",
    "df_non = df[df['VIP'] == False]\n",
    "\n",
    "average_spent_VIP = round(np.mean(df_VIP['RoomService'] + df_VIP['FoodCourt'] + df_VIP['ShoppingMall'] + df_VIP['Spa'] + df_VIP['VRDeck']), 2)\n",
    "average_spent_non = round(np.mean(df_non['RoomService'] + df_non['FoodCourt'] + df_non['ShoppingMall'] + df_non['Spa'] + df_non['VRDeck']), 2)\n",
    "\n",
    "display(f\"VIPs spent {average_spent_VIP}. On the other hand, non-VIPs spent {average_spent_non}.\")"
   ]
  },
  {
   "cell_type": "code",
   "execution_count": 283,
   "metadata": {},
   "outputs": [
    {
     "data": {
      "text/plain": [
       "'The Margin of Error is 39.21'"
      ]
     },
     "metadata": {},
     "output_type": "display_data"
    },
    {
     "data": {
      "text/plain": [
       "'The lowerbound is 4610.38'"
      ]
     },
     "metadata": {},
     "output_type": "display_data"
    }
   ],
   "source": [
    "std_spent_VIP = round(np.std(df_VIP['RoomService'] + df_VIP['FoodCourt'] + df_VIP['ShoppingMall'] + df_VIP['Spa'] + df_VIP['VRDeck']))\n",
    "se = std_spent_VIP / df_VIP.shape[0]\n",
    "confidence_level = 0.95\n",
    "z_value = stats.norm.ppf((1 + confidence_level) / 2)\n",
    "margin_of_error = round(z_value * se, 2)\n",
    "\n",
    "display(f\"The Margin of Error is {margin_of_error}\")\n",
    "display(f\"The lowerbound is {average_spent_VIP - margin_of_error}\")"
   ]
  },
  {
   "cell_type": "code",
   "execution_count": 284,
   "metadata": {},
   "outputs": [
    {
     "data": {
      "text/plain": [
       "'The number of missing values in Destination before: '"
      ]
     },
     "metadata": {},
     "output_type": "display_data"
    },
    {
     "data": {
      "text/plain": [
       "np.int64(296)"
      ]
     },
     "metadata": {},
     "output_type": "display_data"
    },
    {
     "data": {
      "text/plain": [
       "'The number of missing values in Destination after cleaning: '"
      ]
     },
     "metadata": {},
     "output_type": "display_data"
    },
    {
     "data": {
      "text/plain": [
       "np.int64(0)"
      ]
     },
     "metadata": {},
     "output_type": "display_data"
    }
   ],
   "source": [
    "mv_vip_raw = df['VIP'].isna().sum()\n",
    "\n",
    "df['Expenditure'] = df[['RoomService', 'FoodCourt', 'ShoppingMall', 'Spa', 'VRDeck']].sum(axis=1)\n",
    "df.loc[df['VIP'].isna(), 'VIP'] = df['Expenditure'] >= 4772.18\n",
    "\n",
    "mv_vip_after = df['VIP'].isna().sum()\n",
    "\n",
    "display('The number of missing values in Destination before: ', mv_vip_raw)\n",
    "display('The number of missing values in Destination after cleaning: ', mv_vip_after)"
   ]
  },
  {
   "cell_type": "code",
   "execution_count": 285,
   "metadata": {},
   "outputs": [
    {
     "data": {
      "text/plain": [
       "PassengerId          0\n",
       "HomePlanet           0\n",
       "CryoSleep            0\n",
       "Cabin              299\n",
       "Destination          0\n",
       "Age                  0\n",
       "VIP                  0\n",
       "RoomService          0\n",
       "FoodCourt            0\n",
       "ShoppingMall         0\n",
       "Spa                  0\n",
       "VRDeck               0\n",
       "Name               294\n",
       "Transported       4277\n",
       "LastName           294\n",
       "PassengerGroup       0\n",
       "GroupSize            0\n",
       "SoloPassenger        0\n",
       "CabinDeck            0\n",
       "CabinNum             0\n",
       "CabinSide            0\n",
       "Expenditure          0\n",
       "dtype: int64"
      ]
     },
     "execution_count": 285,
     "metadata": {},
     "output_type": "execute_result"
    }
   ],
   "source": [
    "df.isna().sum()"
   ]
  },
  {
   "cell_type": "markdown",
   "metadata": {},
   "source": [
    "# Data Transformation"
   ]
  },
  {
   "cell_type": "markdown",
   "metadata": {},
   "source": [
    "## CabinNum"
   ]
  },
  {
   "cell_type": "code",
   "execution_count": 286,
   "metadata": {},
   "outputs": [],
   "source": [
    "def cabin_num_categorise(cabin_num):\n",
    "    if cabin_num <= 300:\n",
    "        return 0\n",
    "    elif cabin_num <= 600:\n",
    "        return 1\n",
    "    elif cabin_num <= 900:\n",
    "        return 2\n",
    "    elif cabin_num <= 1200:\n",
    "        return 3\n",
    "    elif cabin_num <= 1500:\n",
    "        return 4\n",
    "    elif cabin_num <= 1800:\n",
    "        return 5\n",
    "    else:\n",
    "        return 6\n",
    "\n",
    "df['CabinNumGroup'] = df['CabinNum'].apply(lambda x: cabin_num_categorise(x))"
   ]
  },
  {
   "cell_type": "markdown",
   "metadata": {},
   "source": [
    "## Age"
   ]
  },
  {
   "cell_type": "code",
   "execution_count": 287,
   "metadata": {},
   "outputs": [],
   "source": [
    "def age_categorise(age):\n",
    "    if age <= 12:\n",
    "        return 0\n",
    "    elif age <= 17:\n",
    "        return 1\n",
    "    elif age <= 25:\n",
    "        return 2\n",
    "    elif age <= 30:\n",
    "        return 3\n",
    "    elif age <= 50:\n",
    "        return 4\n",
    "    else:\n",
    "        return 5\n",
    "    \n",
    "df['AgeGroup'] = df['Age'].apply(lambda x: age_categorise(x))"
   ]
  },
  {
   "cell_type": "code",
   "execution_count": 288,
   "metadata": {},
   "outputs": [
    {
     "data": {
      "text/html": [
       "<div>\n",
       "<style scoped>\n",
       "    .dataframe tbody tr th:only-of-type {\n",
       "        vertical-align: middle;\n",
       "    }\n",
       "\n",
       "    .dataframe tbody tr th {\n",
       "        vertical-align: top;\n",
       "    }\n",
       "\n",
       "    .dataframe thead th {\n",
       "        text-align: right;\n",
       "    }\n",
       "</style>\n",
       "<table border=\"1\" class=\"dataframe\">\n",
       "  <thead>\n",
       "    <tr style=\"text-align: right;\">\n",
       "      <th></th>\n",
       "      <th>PassengerId</th>\n",
       "      <th>HomePlanet</th>\n",
       "      <th>CryoSleep</th>\n",
       "      <th>Destination</th>\n",
       "      <th>VIP</th>\n",
       "      <th>RoomService</th>\n",
       "      <th>FoodCourt</th>\n",
       "      <th>ShoppingMall</th>\n",
       "      <th>Spa</th>\n",
       "      <th>VRDeck</th>\n",
       "      <th>Transported</th>\n",
       "      <th>GroupSize</th>\n",
       "      <th>SoloPassenger</th>\n",
       "      <th>CabinDeck</th>\n",
       "      <th>CabinSide</th>\n",
       "      <th>Expenditure</th>\n",
       "      <th>CabinNumGroup</th>\n",
       "      <th>AgeGroup</th>\n",
       "    </tr>\n",
       "  </thead>\n",
       "  <tbody>\n",
       "    <tr>\n",
       "      <th>0</th>\n",
       "      <td>0001_01</td>\n",
       "      <td>Europa</td>\n",
       "      <td>0.0</td>\n",
       "      <td>TRAPPIST-1e</td>\n",
       "      <td>False</td>\n",
       "      <td>0.0</td>\n",
       "      <td>0.0</td>\n",
       "      <td>0.0</td>\n",
       "      <td>0.0</td>\n",
       "      <td>0.0</td>\n",
       "      <td>False</td>\n",
       "      <td>1</td>\n",
       "      <td>1</td>\n",
       "      <td>B</td>\n",
       "      <td>P</td>\n",
       "      <td>0.0</td>\n",
       "      <td>0</td>\n",
       "      <td>4</td>\n",
       "    </tr>\n",
       "    <tr>\n",
       "      <th>1</th>\n",
       "      <td>0002_01</td>\n",
       "      <td>Earth</td>\n",
       "      <td>0.0</td>\n",
       "      <td>TRAPPIST-1e</td>\n",
       "      <td>False</td>\n",
       "      <td>109.0</td>\n",
       "      <td>9.0</td>\n",
       "      <td>25.0</td>\n",
       "      <td>549.0</td>\n",
       "      <td>44.0</td>\n",
       "      <td>True</td>\n",
       "      <td>1</td>\n",
       "      <td>1</td>\n",
       "      <td>F</td>\n",
       "      <td>S</td>\n",
       "      <td>736.0</td>\n",
       "      <td>0</td>\n",
       "      <td>2</td>\n",
       "    </tr>\n",
       "    <tr>\n",
       "      <th>2</th>\n",
       "      <td>0003_01</td>\n",
       "      <td>Europa</td>\n",
       "      <td>0.0</td>\n",
       "      <td>TRAPPIST-1e</td>\n",
       "      <td>True</td>\n",
       "      <td>43.0</td>\n",
       "      <td>3576.0</td>\n",
       "      <td>0.0</td>\n",
       "      <td>6715.0</td>\n",
       "      <td>49.0</td>\n",
       "      <td>False</td>\n",
       "      <td>2</td>\n",
       "      <td>0</td>\n",
       "      <td>A</td>\n",
       "      <td>S</td>\n",
       "      <td>10383.0</td>\n",
       "      <td>0</td>\n",
       "      <td>5</td>\n",
       "    </tr>\n",
       "  </tbody>\n",
       "</table>\n",
       "</div>"
      ],
      "text/plain": [
       "  PassengerId HomePlanet  CryoSleep  Destination    VIP  RoomService  \\\n",
       "0     0001_01     Europa        0.0  TRAPPIST-1e  False          0.0   \n",
       "1     0002_01      Earth        0.0  TRAPPIST-1e  False        109.0   \n",
       "2     0003_01     Europa        0.0  TRAPPIST-1e   True         43.0   \n",
       "\n",
       "   FoodCourt  ShoppingMall     Spa  VRDeck Transported  GroupSize  \\\n",
       "0        0.0           0.0     0.0     0.0       False          1   \n",
       "1        9.0          25.0   549.0    44.0        True          1   \n",
       "2     3576.0           0.0  6715.0    49.0       False          2   \n",
       "\n",
       "   SoloPassenger CabinDeck CabinSide  Expenditure  CabinNumGroup  AgeGroup  \n",
       "0              1         B         P          0.0              0         4  \n",
       "1              1         F         S        736.0              0         2  \n",
       "2              0         A         S      10383.0              0         5  "
      ]
     },
     "execution_count": 288,
     "metadata": {},
     "output_type": "execute_result"
    }
   ],
   "source": [
    "df = df.drop(columns=['Cabin', 'Name', 'LastName', 'PassengerGroup', 'CabinNum', 'Age'])\n",
    "df.head(3)"
   ]
  },
  {
   "cell_type": "markdown",
   "metadata": {},
   "source": [
    "## Expenditures"
   ]
  },
  {
   "cell_type": "code",
   "execution_count": 289,
   "metadata": {},
   "outputs": [
    {
     "data": {
      "text/plain": [
       "'Skewness before log transformation:\\n'"
      ]
     },
     "metadata": {},
     "output_type": "display_data"
    },
    {
     "data": {
      "text/plain": [
       "RoomService      6.141872\n",
       "FoodCourt        7.078508\n",
       "ShoppingMall    11.019204\n",
       "Spa              7.661886\n",
       "VRDeck           8.101704\n",
       "Expenditure      4.499639\n",
       "dtype: float64"
      ]
     },
     "metadata": {},
     "output_type": "display_data"
    }
   ],
   "source": [
    "numerical_cols = ['RoomService', 'FoodCourt', 'ShoppingMall', 'Spa', 'VRDeck', 'Expenditure']\n",
    "df[numerical_cols] = df[numerical_cols].apply(pd.to_numeric)\n",
    "\n",
    "# Calculate skewness before log transformation\n",
    "skewness_before = df[numerical_cols].apply(lambda x: stats.skew(x.dropna()))\n",
    "display(\"Skewness before log transformation:\\n\", skewness_before)"
   ]
  },
  {
   "cell_type": "code",
   "execution_count": 290,
   "metadata": {},
   "outputs": [
    {
     "name": "stdout",
     "output_type": "stream",
     "text": [
      "Skewness after log transformation:\n",
      " RoomService     1.066458\n",
      "FoodCourt       1.067053\n",
      "ShoppingMall    1.142056\n",
      "Spa             1.054067\n",
      "VRDeck          1.145908\n",
      "Expenditure    -0.262186\n",
      "dtype: float64\n"
     ]
    }
   ],
   "source": [
    "df = df.copy()\n",
    "df[numerical_cols] = df[numerical_cols].apply(lambda x: np.log1p(x))\n",
    "\n",
    "skewness_after = df[numerical_cols].apply(lambda x: stats.skew(x.dropna()))\n",
    "print(\"Skewness after log transformation:\\n\", skewness_after)"
   ]
  },
  {
   "cell_type": "markdown",
   "metadata": {},
   "source": [
    "# Encode and Categorise"
   ]
  },
  {
   "cell_type": "code",
   "execution_count": 291,
   "metadata": {},
   "outputs": [],
   "source": [
    "catcols = ['HomePlanet', 'CryoSleep', 'Destination', 'VIP', 'CabinDeck', 'SoloPassenger', 'CabinSide', 'CabinNumGroup', 'AgeGroup']\n",
    "\n",
    "ohe = OneHotEncoder(categories='auto')\n",
    "\n",
    "array_hot_encoded = ohe.fit_transform(df[catcols]).toarray()\n",
    "\n",
    "# Get the feature names for the one-hot encoded columns\n",
    "feature_names = ohe.get_feature_names_out(catcols)\n",
    "\n",
    "# Create a DataFrame from the one-hot encoded array\n",
    "data_hot_encoded = pd.DataFrame(array_hot_encoded, index=df.index, columns=feature_names)\n",
    "\n",
    "# Drop the original categorical columns\n",
    "data_other_cols = df.drop(columns=catcols)\n",
    "\n",
    "# Concatenate the one-hot encoded columns with the rest of the DataFrame\n",
    "df = pd.concat([data_hot_encoded, data_other_cols], axis=1)"
   ]
  },
  {
   "cell_type": "code",
   "execution_count": 292,
   "metadata": {},
   "outputs": [
    {
     "data": {
      "text/html": [
       "<div>\n",
       "<style scoped>\n",
       "    .dataframe tbody tr th:only-of-type {\n",
       "        vertical-align: middle;\n",
       "    }\n",
       "\n",
       "    .dataframe tbody tr th {\n",
       "        vertical-align: top;\n",
       "    }\n",
       "\n",
       "    .dataframe thead th {\n",
       "        text-align: right;\n",
       "    }\n",
       "</style>\n",
       "<table border=\"1\" class=\"dataframe\">\n",
       "  <thead>\n",
       "    <tr style=\"text-align: right;\">\n",
       "      <th></th>\n",
       "      <th>HomePlanet_Earth</th>\n",
       "      <th>HomePlanet_Europa</th>\n",
       "      <th>HomePlanet_Mars</th>\n",
       "      <th>CryoSleep_0.0</th>\n",
       "      <th>CryoSleep_1.0</th>\n",
       "      <th>Destination_55 Cancri e</th>\n",
       "      <th>Destination_PSO J318.5-22</th>\n",
       "      <th>Destination_TRAPPIST-1e</th>\n",
       "      <th>VIP_False</th>\n",
       "      <th>VIP_True</th>\n",
       "      <th>CabinDeck_A</th>\n",
       "      <th>CabinDeck_B</th>\n",
       "      <th>CabinDeck_C</th>\n",
       "      <th>CabinDeck_D</th>\n",
       "      <th>CabinDeck_E</th>\n",
       "      <th>CabinDeck_F</th>\n",
       "      <th>CabinDeck_G</th>\n",
       "      <th>CabinDeck_T</th>\n",
       "      <th>SoloPassenger_0</th>\n",
       "      <th>SoloPassenger_1</th>\n",
       "      <th>CabinSide_P</th>\n",
       "      <th>CabinSide_S</th>\n",
       "      <th>CabinNumGroup_0</th>\n",
       "      <th>CabinNumGroup_1</th>\n",
       "      <th>CabinNumGroup_2</th>\n",
       "      <th>CabinNumGroup_3</th>\n",
       "      <th>CabinNumGroup_4</th>\n",
       "      <th>CabinNumGroup_5</th>\n",
       "      <th>CabinNumGroup_6</th>\n",
       "      <th>AgeGroup_0</th>\n",
       "      <th>AgeGroup_1</th>\n",
       "      <th>AgeGroup_2</th>\n",
       "      <th>AgeGroup_3</th>\n",
       "      <th>AgeGroup_4</th>\n",
       "      <th>AgeGroup_5</th>\n",
       "      <th>PassengerId</th>\n",
       "      <th>RoomService</th>\n",
       "      <th>FoodCourt</th>\n",
       "      <th>ShoppingMall</th>\n",
       "      <th>Spa</th>\n",
       "      <th>VRDeck</th>\n",
       "      <th>Transported</th>\n",
       "      <th>GroupSize</th>\n",
       "      <th>Expenditure</th>\n",
       "    </tr>\n",
       "  </thead>\n",
       "  <tbody>\n",
       "    <tr>\n",
       "      <th>0</th>\n",
       "      <td>0.0</td>\n",
       "      <td>1.0</td>\n",
       "      <td>0.0</td>\n",
       "      <td>1.0</td>\n",
       "      <td>0.0</td>\n",
       "      <td>0.0</td>\n",
       "      <td>0.0</td>\n",
       "      <td>1.0</td>\n",
       "      <td>1.0</td>\n",
       "      <td>0.0</td>\n",
       "      <td>0.0</td>\n",
       "      <td>1.0</td>\n",
       "      <td>0.0</td>\n",
       "      <td>0.0</td>\n",
       "      <td>0.0</td>\n",
       "      <td>0.0</td>\n",
       "      <td>0.0</td>\n",
       "      <td>0.0</td>\n",
       "      <td>0.0</td>\n",
       "      <td>1.0</td>\n",
       "      <td>1.0</td>\n",
       "      <td>0.0</td>\n",
       "      <td>1.0</td>\n",
       "      <td>0.0</td>\n",
       "      <td>0.0</td>\n",
       "      <td>0.0</td>\n",
       "      <td>0.0</td>\n",
       "      <td>0.0</td>\n",
       "      <td>0.0</td>\n",
       "      <td>0.0</td>\n",
       "      <td>0.0</td>\n",
       "      <td>0.0</td>\n",
       "      <td>0.0</td>\n",
       "      <td>1.0</td>\n",
       "      <td>0.0</td>\n",
       "      <td>0001_01</td>\n",
       "      <td>0.000000</td>\n",
       "      <td>0.000000</td>\n",
       "      <td>0.000000</td>\n",
       "      <td>0.000000</td>\n",
       "      <td>0.000000</td>\n",
       "      <td>False</td>\n",
       "      <td>1</td>\n",
       "      <td>0.000000</td>\n",
       "    </tr>\n",
       "    <tr>\n",
       "      <th>1</th>\n",
       "      <td>1.0</td>\n",
       "      <td>0.0</td>\n",
       "      <td>0.0</td>\n",
       "      <td>1.0</td>\n",
       "      <td>0.0</td>\n",
       "      <td>0.0</td>\n",
       "      <td>0.0</td>\n",
       "      <td>1.0</td>\n",
       "      <td>1.0</td>\n",
       "      <td>0.0</td>\n",
       "      <td>0.0</td>\n",
       "      <td>0.0</td>\n",
       "      <td>0.0</td>\n",
       "      <td>0.0</td>\n",
       "      <td>0.0</td>\n",
       "      <td>1.0</td>\n",
       "      <td>0.0</td>\n",
       "      <td>0.0</td>\n",
       "      <td>0.0</td>\n",
       "      <td>1.0</td>\n",
       "      <td>0.0</td>\n",
       "      <td>1.0</td>\n",
       "      <td>1.0</td>\n",
       "      <td>0.0</td>\n",
       "      <td>0.0</td>\n",
       "      <td>0.0</td>\n",
       "      <td>0.0</td>\n",
       "      <td>0.0</td>\n",
       "      <td>0.0</td>\n",
       "      <td>0.0</td>\n",
       "      <td>0.0</td>\n",
       "      <td>1.0</td>\n",
       "      <td>0.0</td>\n",
       "      <td>0.0</td>\n",
       "      <td>0.0</td>\n",
       "      <td>0002_01</td>\n",
       "      <td>4.700480</td>\n",
       "      <td>2.302585</td>\n",
       "      <td>3.258097</td>\n",
       "      <td>6.309918</td>\n",
       "      <td>3.806662</td>\n",
       "      <td>True</td>\n",
       "      <td>1</td>\n",
       "      <td>6.602588</td>\n",
       "    </tr>\n",
       "    <tr>\n",
       "      <th>2</th>\n",
       "      <td>0.0</td>\n",
       "      <td>1.0</td>\n",
       "      <td>0.0</td>\n",
       "      <td>1.0</td>\n",
       "      <td>0.0</td>\n",
       "      <td>0.0</td>\n",
       "      <td>0.0</td>\n",
       "      <td>1.0</td>\n",
       "      <td>0.0</td>\n",
       "      <td>1.0</td>\n",
       "      <td>1.0</td>\n",
       "      <td>0.0</td>\n",
       "      <td>0.0</td>\n",
       "      <td>0.0</td>\n",
       "      <td>0.0</td>\n",
       "      <td>0.0</td>\n",
       "      <td>0.0</td>\n",
       "      <td>0.0</td>\n",
       "      <td>1.0</td>\n",
       "      <td>0.0</td>\n",
       "      <td>0.0</td>\n",
       "      <td>1.0</td>\n",
       "      <td>1.0</td>\n",
       "      <td>0.0</td>\n",
       "      <td>0.0</td>\n",
       "      <td>0.0</td>\n",
       "      <td>0.0</td>\n",
       "      <td>0.0</td>\n",
       "      <td>0.0</td>\n",
       "      <td>0.0</td>\n",
       "      <td>0.0</td>\n",
       "      <td>0.0</td>\n",
       "      <td>0.0</td>\n",
       "      <td>0.0</td>\n",
       "      <td>1.0</td>\n",
       "      <td>0003_01</td>\n",
       "      <td>3.784190</td>\n",
       "      <td>8.182280</td>\n",
       "      <td>0.000000</td>\n",
       "      <td>8.812248</td>\n",
       "      <td>3.912023</td>\n",
       "      <td>False</td>\n",
       "      <td>2</td>\n",
       "      <td>9.248021</td>\n",
       "    </tr>\n",
       "    <tr>\n",
       "      <th>3</th>\n",
       "      <td>0.0</td>\n",
       "      <td>1.0</td>\n",
       "      <td>0.0</td>\n",
       "      <td>1.0</td>\n",
       "      <td>0.0</td>\n",
       "      <td>0.0</td>\n",
       "      <td>0.0</td>\n",
       "      <td>1.0</td>\n",
       "      <td>1.0</td>\n",
       "      <td>0.0</td>\n",
       "      <td>1.0</td>\n",
       "      <td>0.0</td>\n",
       "      <td>0.0</td>\n",
       "      <td>0.0</td>\n",
       "      <td>0.0</td>\n",
       "      <td>0.0</td>\n",
       "      <td>0.0</td>\n",
       "      <td>0.0</td>\n",
       "      <td>1.0</td>\n",
       "      <td>0.0</td>\n",
       "      <td>0.0</td>\n",
       "      <td>1.0</td>\n",
       "      <td>1.0</td>\n",
       "      <td>0.0</td>\n",
       "      <td>0.0</td>\n",
       "      <td>0.0</td>\n",
       "      <td>0.0</td>\n",
       "      <td>0.0</td>\n",
       "      <td>0.0</td>\n",
       "      <td>0.0</td>\n",
       "      <td>0.0</td>\n",
       "      <td>0.0</td>\n",
       "      <td>0.0</td>\n",
       "      <td>1.0</td>\n",
       "      <td>0.0</td>\n",
       "      <td>0003_02</td>\n",
       "      <td>0.000000</td>\n",
       "      <td>7.157735</td>\n",
       "      <td>5.918894</td>\n",
       "      <td>8.110728</td>\n",
       "      <td>5.267858</td>\n",
       "      <td>False</td>\n",
       "      <td>2</td>\n",
       "      <td>8.551981</td>\n",
       "    </tr>\n",
       "    <tr>\n",
       "      <th>4</th>\n",
       "      <td>1.0</td>\n",
       "      <td>0.0</td>\n",
       "      <td>0.0</td>\n",
       "      <td>1.0</td>\n",
       "      <td>0.0</td>\n",
       "      <td>0.0</td>\n",
       "      <td>0.0</td>\n",
       "      <td>1.0</td>\n",
       "      <td>1.0</td>\n",
       "      <td>0.0</td>\n",
       "      <td>0.0</td>\n",
       "      <td>0.0</td>\n",
       "      <td>0.0</td>\n",
       "      <td>0.0</td>\n",
       "      <td>0.0</td>\n",
       "      <td>1.0</td>\n",
       "      <td>0.0</td>\n",
       "      <td>0.0</td>\n",
       "      <td>0.0</td>\n",
       "      <td>1.0</td>\n",
       "      <td>0.0</td>\n",
       "      <td>1.0</td>\n",
       "      <td>1.0</td>\n",
       "      <td>0.0</td>\n",
       "      <td>0.0</td>\n",
       "      <td>0.0</td>\n",
       "      <td>0.0</td>\n",
       "      <td>0.0</td>\n",
       "      <td>0.0</td>\n",
       "      <td>0.0</td>\n",
       "      <td>1.0</td>\n",
       "      <td>0.0</td>\n",
       "      <td>0.0</td>\n",
       "      <td>0.0</td>\n",
       "      <td>0.0</td>\n",
       "      <td>0004_01</td>\n",
       "      <td>5.717028</td>\n",
       "      <td>4.262680</td>\n",
       "      <td>5.023881</td>\n",
       "      <td>6.338594</td>\n",
       "      <td>1.098612</td>\n",
       "      <td>True</td>\n",
       "      <td>1</td>\n",
       "      <td>6.995766</td>\n",
       "    </tr>\n",
       "  </tbody>\n",
       "</table>\n",
       "</div>"
      ],
      "text/plain": [
       "   HomePlanet_Earth  HomePlanet_Europa  HomePlanet_Mars  CryoSleep_0.0  \\\n",
       "0               0.0                1.0              0.0            1.0   \n",
       "1               1.0                0.0              0.0            1.0   \n",
       "2               0.0                1.0              0.0            1.0   \n",
       "3               0.0                1.0              0.0            1.0   \n",
       "4               1.0                0.0              0.0            1.0   \n",
       "\n",
       "   CryoSleep_1.0  Destination_55 Cancri e  Destination_PSO J318.5-22  \\\n",
       "0            0.0                      0.0                        0.0   \n",
       "1            0.0                      0.0                        0.0   \n",
       "2            0.0                      0.0                        0.0   \n",
       "3            0.0                      0.0                        0.0   \n",
       "4            0.0                      0.0                        0.0   \n",
       "\n",
       "   Destination_TRAPPIST-1e  VIP_False  VIP_True  CabinDeck_A  CabinDeck_B  \\\n",
       "0                      1.0        1.0       0.0          0.0          1.0   \n",
       "1                      1.0        1.0       0.0          0.0          0.0   \n",
       "2                      1.0        0.0       1.0          1.0          0.0   \n",
       "3                      1.0        1.0       0.0          1.0          0.0   \n",
       "4                      1.0        1.0       0.0          0.0          0.0   \n",
       "\n",
       "   CabinDeck_C  CabinDeck_D  CabinDeck_E  CabinDeck_F  CabinDeck_G  \\\n",
       "0          0.0          0.0          0.0          0.0          0.0   \n",
       "1          0.0          0.0          0.0          1.0          0.0   \n",
       "2          0.0          0.0          0.0          0.0          0.0   \n",
       "3          0.0          0.0          0.0          0.0          0.0   \n",
       "4          0.0          0.0          0.0          1.0          0.0   \n",
       "\n",
       "   CabinDeck_T  SoloPassenger_0  SoloPassenger_1  CabinSide_P  CabinSide_S  \\\n",
       "0          0.0              0.0              1.0          1.0          0.0   \n",
       "1          0.0              0.0              1.0          0.0          1.0   \n",
       "2          0.0              1.0              0.0          0.0          1.0   \n",
       "3          0.0              1.0              0.0          0.0          1.0   \n",
       "4          0.0              0.0              1.0          0.0          1.0   \n",
       "\n",
       "   CabinNumGroup_0  CabinNumGroup_1  CabinNumGroup_2  CabinNumGroup_3  \\\n",
       "0              1.0              0.0              0.0              0.0   \n",
       "1              1.0              0.0              0.0              0.0   \n",
       "2              1.0              0.0              0.0              0.0   \n",
       "3              1.0              0.0              0.0              0.0   \n",
       "4              1.0              0.0              0.0              0.0   \n",
       "\n",
       "   CabinNumGroup_4  CabinNumGroup_5  CabinNumGroup_6  AgeGroup_0  AgeGroup_1  \\\n",
       "0              0.0              0.0              0.0         0.0         0.0   \n",
       "1              0.0              0.0              0.0         0.0         0.0   \n",
       "2              0.0              0.0              0.0         0.0         0.0   \n",
       "3              0.0              0.0              0.0         0.0         0.0   \n",
       "4              0.0              0.0              0.0         0.0         1.0   \n",
       "\n",
       "   AgeGroup_2  AgeGroup_3  AgeGroup_4  AgeGroup_5 PassengerId  RoomService  \\\n",
       "0         0.0         0.0         1.0         0.0     0001_01     0.000000   \n",
       "1         1.0         0.0         0.0         0.0     0002_01     4.700480   \n",
       "2         0.0         0.0         0.0         1.0     0003_01     3.784190   \n",
       "3         0.0         0.0         1.0         0.0     0003_02     0.000000   \n",
       "4         0.0         0.0         0.0         0.0     0004_01     5.717028   \n",
       "\n",
       "   FoodCourt  ShoppingMall       Spa    VRDeck Transported  GroupSize  \\\n",
       "0   0.000000      0.000000  0.000000  0.000000       False          1   \n",
       "1   2.302585      3.258097  6.309918  3.806662        True          1   \n",
       "2   8.182280      0.000000  8.812248  3.912023       False          2   \n",
       "3   7.157735      5.918894  8.110728  5.267858       False          2   \n",
       "4   4.262680      5.023881  6.338594  1.098612        True          1   \n",
       "\n",
       "   Expenditure  \n",
       "0     0.000000  \n",
       "1     6.602588  \n",
       "2     9.248021  \n",
       "3     8.551981  \n",
       "4     6.995766  "
      ]
     },
     "execution_count": 292,
     "metadata": {},
     "output_type": "execute_result"
    }
   ],
   "source": [
    "df.head()"
   ]
  },
  {
   "cell_type": "markdown",
   "metadata": {},
   "source": [
    "# Divide Into Train and Test"
   ]
  },
  {
   "cell_type": "code",
   "execution_count": 293,
   "metadata": {},
   "outputs": [
    {
     "data": {
      "text/html": [
       "<div>\n",
       "<style scoped>\n",
       "    .dataframe tbody tr th:only-of-type {\n",
       "        vertical-align: middle;\n",
       "    }\n",
       "\n",
       "    .dataframe tbody tr th {\n",
       "        vertical-align: top;\n",
       "    }\n",
       "\n",
       "    .dataframe thead th {\n",
       "        text-align: right;\n",
       "    }\n",
       "</style>\n",
       "<table border=\"1\" class=\"dataframe\">\n",
       "  <thead>\n",
       "    <tr style=\"text-align: right;\">\n",
       "      <th></th>\n",
       "      <th>HomePlanet_Earth</th>\n",
       "      <th>HomePlanet_Europa</th>\n",
       "      <th>HomePlanet_Mars</th>\n",
       "      <th>CryoSleep_0.0</th>\n",
       "      <th>CryoSleep_1.0</th>\n",
       "      <th>Destination_55 Cancri e</th>\n",
       "      <th>Destination_PSO J318.5-22</th>\n",
       "      <th>Destination_TRAPPIST-1e</th>\n",
       "      <th>VIP_False</th>\n",
       "      <th>VIP_True</th>\n",
       "      <th>CabinDeck_A</th>\n",
       "      <th>CabinDeck_B</th>\n",
       "      <th>CabinDeck_C</th>\n",
       "      <th>CabinDeck_D</th>\n",
       "      <th>CabinDeck_E</th>\n",
       "      <th>CabinDeck_F</th>\n",
       "      <th>CabinDeck_G</th>\n",
       "      <th>CabinDeck_T</th>\n",
       "      <th>SoloPassenger_0</th>\n",
       "      <th>SoloPassenger_1</th>\n",
       "      <th>CabinSide_P</th>\n",
       "      <th>CabinSide_S</th>\n",
       "      <th>CabinNumGroup_0</th>\n",
       "      <th>CabinNumGroup_1</th>\n",
       "      <th>CabinNumGroup_2</th>\n",
       "      <th>CabinNumGroup_3</th>\n",
       "      <th>CabinNumGroup_4</th>\n",
       "      <th>CabinNumGroup_5</th>\n",
       "      <th>CabinNumGroup_6</th>\n",
       "      <th>AgeGroup_0</th>\n",
       "      <th>AgeGroup_1</th>\n",
       "      <th>AgeGroup_2</th>\n",
       "      <th>AgeGroup_3</th>\n",
       "      <th>AgeGroup_4</th>\n",
       "      <th>AgeGroup_5</th>\n",
       "      <th>PassengerId</th>\n",
       "      <th>RoomService</th>\n",
       "      <th>FoodCourt</th>\n",
       "      <th>ShoppingMall</th>\n",
       "      <th>Spa</th>\n",
       "      <th>VRDeck</th>\n",
       "      <th>GroupSize</th>\n",
       "      <th>Expenditure</th>\n",
       "    </tr>\n",
       "  </thead>\n",
       "  <tbody>\n",
       "    <tr>\n",
       "      <th>0</th>\n",
       "      <td>1.0</td>\n",
       "      <td>0.0</td>\n",
       "      <td>0.0</td>\n",
       "      <td>0.0</td>\n",
       "      <td>1.0</td>\n",
       "      <td>0.0</td>\n",
       "      <td>0.0</td>\n",
       "      <td>1.0</td>\n",
       "      <td>1.0</td>\n",
       "      <td>0.0</td>\n",
       "      <td>0.0</td>\n",
       "      <td>0.0</td>\n",
       "      <td>0.0</td>\n",
       "      <td>0.0</td>\n",
       "      <td>0.0</td>\n",
       "      <td>0.0</td>\n",
       "      <td>1.0</td>\n",
       "      <td>0.0</td>\n",
       "      <td>0.0</td>\n",
       "      <td>1.0</td>\n",
       "      <td>0.0</td>\n",
       "      <td>1.0</td>\n",
       "      <td>1.0</td>\n",
       "      <td>0.0</td>\n",
       "      <td>0.0</td>\n",
       "      <td>0.0</td>\n",
       "      <td>0.0</td>\n",
       "      <td>0.0</td>\n",
       "      <td>0.0</td>\n",
       "      <td>0.0</td>\n",
       "      <td>0.0</td>\n",
       "      <td>0.0</td>\n",
       "      <td>1.0</td>\n",
       "      <td>0.0</td>\n",
       "      <td>0.0</td>\n",
       "      <td>0013_01</td>\n",
       "      <td>0.0</td>\n",
       "      <td>0.000000</td>\n",
       "      <td>0.0</td>\n",
       "      <td>0.00000</td>\n",
       "      <td>0.0</td>\n",
       "      <td>1</td>\n",
       "      <td>0.000000</td>\n",
       "    </tr>\n",
       "    <tr>\n",
       "      <th>1</th>\n",
       "      <td>1.0</td>\n",
       "      <td>0.0</td>\n",
       "      <td>0.0</td>\n",
       "      <td>1.0</td>\n",
       "      <td>0.0</td>\n",
       "      <td>0.0</td>\n",
       "      <td>0.0</td>\n",
       "      <td>1.0</td>\n",
       "      <td>1.0</td>\n",
       "      <td>0.0</td>\n",
       "      <td>0.0</td>\n",
       "      <td>0.0</td>\n",
       "      <td>0.0</td>\n",
       "      <td>0.0</td>\n",
       "      <td>0.0</td>\n",
       "      <td>1.0</td>\n",
       "      <td>0.0</td>\n",
       "      <td>0.0</td>\n",
       "      <td>0.0</td>\n",
       "      <td>1.0</td>\n",
       "      <td>0.0</td>\n",
       "      <td>1.0</td>\n",
       "      <td>1.0</td>\n",
       "      <td>0.0</td>\n",
       "      <td>0.0</td>\n",
       "      <td>0.0</td>\n",
       "      <td>0.0</td>\n",
       "      <td>0.0</td>\n",
       "      <td>0.0</td>\n",
       "      <td>0.0</td>\n",
       "      <td>0.0</td>\n",
       "      <td>1.0</td>\n",
       "      <td>0.0</td>\n",
       "      <td>0.0</td>\n",
       "      <td>0.0</td>\n",
       "      <td>0018_01</td>\n",
       "      <td>0.0</td>\n",
       "      <td>2.302585</td>\n",
       "      <td>0.0</td>\n",
       "      <td>7.94591</td>\n",
       "      <td>0.0</td>\n",
       "      <td>1</td>\n",
       "      <td>7.949091</td>\n",
       "    </tr>\n",
       "    <tr>\n",
       "      <th>2</th>\n",
       "      <td>0.0</td>\n",
       "      <td>1.0</td>\n",
       "      <td>0.0</td>\n",
       "      <td>0.0</td>\n",
       "      <td>1.0</td>\n",
       "      <td>1.0</td>\n",
       "      <td>0.0</td>\n",
       "      <td>0.0</td>\n",
       "      <td>1.0</td>\n",
       "      <td>0.0</td>\n",
       "      <td>0.0</td>\n",
       "      <td>0.0</td>\n",
       "      <td>1.0</td>\n",
       "      <td>0.0</td>\n",
       "      <td>0.0</td>\n",
       "      <td>0.0</td>\n",
       "      <td>0.0</td>\n",
       "      <td>0.0</td>\n",
       "      <td>0.0</td>\n",
       "      <td>1.0</td>\n",
       "      <td>0.0</td>\n",
       "      <td>1.0</td>\n",
       "      <td>1.0</td>\n",
       "      <td>0.0</td>\n",
       "      <td>0.0</td>\n",
       "      <td>0.0</td>\n",
       "      <td>0.0</td>\n",
       "      <td>0.0</td>\n",
       "      <td>0.0</td>\n",
       "      <td>0.0</td>\n",
       "      <td>0.0</td>\n",
       "      <td>0.0</td>\n",
       "      <td>0.0</td>\n",
       "      <td>1.0</td>\n",
       "      <td>0.0</td>\n",
       "      <td>0019_01</td>\n",
       "      <td>0.0</td>\n",
       "      <td>0.000000</td>\n",
       "      <td>0.0</td>\n",
       "      <td>0.00000</td>\n",
       "      <td>0.0</td>\n",
       "      <td>1</td>\n",
       "      <td>0.000000</td>\n",
       "    </tr>\n",
       "  </tbody>\n",
       "</table>\n",
       "</div>"
      ],
      "text/plain": [
       "   HomePlanet_Earth  HomePlanet_Europa  HomePlanet_Mars  CryoSleep_0.0  \\\n",
       "0               1.0                0.0              0.0            0.0   \n",
       "1               1.0                0.0              0.0            1.0   \n",
       "2               0.0                1.0              0.0            0.0   \n",
       "\n",
       "   CryoSleep_1.0  Destination_55 Cancri e  Destination_PSO J318.5-22  \\\n",
       "0            1.0                      0.0                        0.0   \n",
       "1            0.0                      0.0                        0.0   \n",
       "2            1.0                      1.0                        0.0   \n",
       "\n",
       "   Destination_TRAPPIST-1e  VIP_False  VIP_True  CabinDeck_A  CabinDeck_B  \\\n",
       "0                      1.0        1.0       0.0          0.0          0.0   \n",
       "1                      1.0        1.0       0.0          0.0          0.0   \n",
       "2                      0.0        1.0       0.0          0.0          0.0   \n",
       "\n",
       "   CabinDeck_C  CabinDeck_D  CabinDeck_E  CabinDeck_F  CabinDeck_G  \\\n",
       "0          0.0          0.0          0.0          0.0          1.0   \n",
       "1          0.0          0.0          0.0          1.0          0.0   \n",
       "2          1.0          0.0          0.0          0.0          0.0   \n",
       "\n",
       "   CabinDeck_T  SoloPassenger_0  SoloPassenger_1  CabinSide_P  CabinSide_S  \\\n",
       "0          0.0              0.0              1.0          0.0          1.0   \n",
       "1          0.0              0.0              1.0          0.0          1.0   \n",
       "2          0.0              0.0              1.0          0.0          1.0   \n",
       "\n",
       "   CabinNumGroup_0  CabinNumGroup_1  CabinNumGroup_2  CabinNumGroup_3  \\\n",
       "0              1.0              0.0              0.0              0.0   \n",
       "1              1.0              0.0              0.0              0.0   \n",
       "2              1.0              0.0              0.0              0.0   \n",
       "\n",
       "   CabinNumGroup_4  CabinNumGroup_5  CabinNumGroup_6  AgeGroup_0  AgeGroup_1  \\\n",
       "0              0.0              0.0              0.0         0.0         0.0   \n",
       "1              0.0              0.0              0.0         0.0         0.0   \n",
       "2              0.0              0.0              0.0         0.0         0.0   \n",
       "\n",
       "   AgeGroup_2  AgeGroup_3  AgeGroup_4  AgeGroup_5 PassengerId  RoomService  \\\n",
       "0         0.0         1.0         0.0         0.0     0013_01          0.0   \n",
       "1         1.0         0.0         0.0         0.0     0018_01          0.0   \n",
       "2         0.0         0.0         1.0         0.0     0019_01          0.0   \n",
       "\n",
       "   FoodCourt  ShoppingMall      Spa  VRDeck  GroupSize  Expenditure  \n",
       "0   0.000000           0.0  0.00000     0.0          1     0.000000  \n",
       "1   2.302585           0.0  7.94591     0.0          1     7.949091  \n",
       "2   0.000000           0.0  0.00000     0.0          1     0.000000  "
      ]
     },
     "execution_count": 293,
     "metadata": {},
     "output_type": "execute_result"
    }
   ],
   "source": [
    "train_preprocessed = df[:len_train].copy()\n",
    "test_preprocessed = df[len_train:].copy()\n",
    "\n",
    "train_preprocessed.reset_index(drop=True, inplace=True)\n",
    "test_preprocessed.reset_index(drop=True, inplace=True)\n",
    "\n",
    "test_preprocessed.drop(columns=['Transported'], inplace=True)\n",
    "\n",
    "len(test) == len(test_preprocessed)\n",
    "test_preprocessed.head(3)"
   ]
  },
  {
   "cell_type": "markdown",
   "metadata": {},
   "source": [
    "# Save New DFs"
   ]
  },
  {
   "cell_type": "code",
   "execution_count": 294,
   "metadata": {},
   "outputs": [],
   "source": [
    "train_preprocessed.to_csv('../../data/preproc_data/train_2_1.csv', index=False)\n",
    "test_preprocessed.to_csv('../../data/preproc_data/test_2_1.csv', index=False)"
   ]
  }
 ],
 "metadata": {
  "kernelspec": {
   "display_name": "machine_learning",
   "language": "python",
   "name": "python3"
  },
  "language_info": {
   "codemirror_mode": {
    "name": "ipython",
    "version": 3
   },
   "file_extension": ".py",
   "mimetype": "text/x-python",
   "name": "python",
   "nbconvert_exporter": "python",
   "pygments_lexer": "ipython3",
   "version": "3.12.0"
  }
 },
 "nbformat": 4,
 "nbformat_minor": 2
}
