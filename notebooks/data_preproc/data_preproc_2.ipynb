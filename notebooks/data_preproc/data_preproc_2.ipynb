{
 "cells": [
  {
   "cell_type": "code",
   "execution_count": null,
   "metadata": {},
   "outputs": [],
   "source": []
  },
  {
   "cell_type": "markdown",
   "metadata": {},
   "source": [
    "# Imports"
   ]
  },
  {
   "cell_type": "code",
   "execution_count": 141,
   "metadata": {},
   "outputs": [],
   "source": [
    "import pandas as pd\n",
    "import numpy as np\n",
    "import matplotlib.pyplot as plt\n",
    "\n",
    "import seaborn as sns"
   ]
  },
  {
   "cell_type": "markdown",
   "metadata": {},
   "source": [
    "# Load Data\n",
    "\n",
    "- Load Train\n",
    "- Load Test\n",
    "- Combine Train and Test"
   ]
  },
  {
   "cell_type": "code",
   "execution_count": 142,
   "metadata": {},
   "outputs": [
    {
     "data": {
      "text/plain": [
       "((8693, 14), (4277, 13))"
      ]
     },
     "execution_count": 142,
     "metadata": {},
     "output_type": "execute_result"
    }
   ],
   "source": [
    "train = pd.read_csv('../../data/original_data/train.csv')\n",
    "test = pd.read_csv('../../data/original_data/test.csv')\n",
    "\n",
    "len_train = len(train)\n",
    "len_test = len(test)\n",
    "\n",
    "train.shape, test.shape"
   ]
  },
  {
   "cell_type": "code",
   "execution_count": 143,
   "metadata": {},
   "outputs": [],
   "source": [
    "df = pd.concat([train, test])"
   ]
  },
  {
   "cell_type": "markdown",
   "metadata": {},
   "source": [
    "## Confirm Concatenated Shape"
   ]
  },
  {
   "cell_type": "code",
   "execution_count": 144,
   "metadata": {},
   "outputs": [
    {
     "data": {
      "text/plain": [
       "True"
      ]
     },
     "execution_count": 144,
     "metadata": {},
     "output_type": "execute_result"
    }
   ],
   "source": [
    "df.shape[0] == test.shape[0] + train.shape[0]"
   ]
  },
  {
   "cell_type": "code",
   "execution_count": 145,
   "metadata": {},
   "outputs": [
    {
     "data": {
      "text/html": [
       "<div>\n",
       "<style scoped>\n",
       "    .dataframe tbody tr th:only-of-type {\n",
       "        vertical-align: middle;\n",
       "    }\n",
       "\n",
       "    .dataframe tbody tr th {\n",
       "        vertical-align: top;\n",
       "    }\n",
       "\n",
       "    .dataframe thead th {\n",
       "        text-align: right;\n",
       "    }\n",
       "</style>\n",
       "<table border=\"1\" class=\"dataframe\">\n",
       "  <thead>\n",
       "    <tr style=\"text-align: right;\">\n",
       "      <th></th>\n",
       "      <th>PassengerId</th>\n",
       "      <th>HomePlanet</th>\n",
       "      <th>CryoSleep</th>\n",
       "      <th>Cabin</th>\n",
       "      <th>Destination</th>\n",
       "      <th>Age</th>\n",
       "      <th>VIP</th>\n",
       "      <th>RoomService</th>\n",
       "      <th>FoodCourt</th>\n",
       "      <th>ShoppingMall</th>\n",
       "      <th>Spa</th>\n",
       "      <th>VRDeck</th>\n",
       "      <th>Name</th>\n",
       "      <th>Transported</th>\n",
       "    </tr>\n",
       "  </thead>\n",
       "  <tbody>\n",
       "    <tr>\n",
       "      <th>0</th>\n",
       "      <td>0001_01</td>\n",
       "      <td>Europa</td>\n",
       "      <td>False</td>\n",
       "      <td>B/0/P</td>\n",
       "      <td>TRAPPIST-1e</td>\n",
       "      <td>39.0</td>\n",
       "      <td>False</td>\n",
       "      <td>0.0</td>\n",
       "      <td>0.0</td>\n",
       "      <td>0.0</td>\n",
       "      <td>0.0</td>\n",
       "      <td>0.0</td>\n",
       "      <td>Maham Ofracculy</td>\n",
       "      <td>False</td>\n",
       "    </tr>\n",
       "    <tr>\n",
       "      <th>1</th>\n",
       "      <td>0002_01</td>\n",
       "      <td>Earth</td>\n",
       "      <td>False</td>\n",
       "      <td>F/0/S</td>\n",
       "      <td>TRAPPIST-1e</td>\n",
       "      <td>24.0</td>\n",
       "      <td>False</td>\n",
       "      <td>109.0</td>\n",
       "      <td>9.0</td>\n",
       "      <td>25.0</td>\n",
       "      <td>549.0</td>\n",
       "      <td>44.0</td>\n",
       "      <td>Juanna Vines</td>\n",
       "      <td>True</td>\n",
       "    </tr>\n",
       "    <tr>\n",
       "      <th>2</th>\n",
       "      <td>0003_01</td>\n",
       "      <td>Europa</td>\n",
       "      <td>False</td>\n",
       "      <td>A/0/S</td>\n",
       "      <td>TRAPPIST-1e</td>\n",
       "      <td>58.0</td>\n",
       "      <td>True</td>\n",
       "      <td>43.0</td>\n",
       "      <td>3576.0</td>\n",
       "      <td>0.0</td>\n",
       "      <td>6715.0</td>\n",
       "      <td>49.0</td>\n",
       "      <td>Altark Susent</td>\n",
       "      <td>False</td>\n",
       "    </tr>\n",
       "    <tr>\n",
       "      <th>3</th>\n",
       "      <td>0003_02</td>\n",
       "      <td>Europa</td>\n",
       "      <td>False</td>\n",
       "      <td>A/0/S</td>\n",
       "      <td>TRAPPIST-1e</td>\n",
       "      <td>33.0</td>\n",
       "      <td>False</td>\n",
       "      <td>0.0</td>\n",
       "      <td>1283.0</td>\n",
       "      <td>371.0</td>\n",
       "      <td>3329.0</td>\n",
       "      <td>193.0</td>\n",
       "      <td>Solam Susent</td>\n",
       "      <td>False</td>\n",
       "    </tr>\n",
       "    <tr>\n",
       "      <th>4</th>\n",
       "      <td>0004_01</td>\n",
       "      <td>Earth</td>\n",
       "      <td>False</td>\n",
       "      <td>F/1/S</td>\n",
       "      <td>TRAPPIST-1e</td>\n",
       "      <td>16.0</td>\n",
       "      <td>False</td>\n",
       "      <td>303.0</td>\n",
       "      <td>70.0</td>\n",
       "      <td>151.0</td>\n",
       "      <td>565.0</td>\n",
       "      <td>2.0</td>\n",
       "      <td>Willy Santantines</td>\n",
       "      <td>True</td>\n",
       "    </tr>\n",
       "  </tbody>\n",
       "</table>\n",
       "</div>"
      ],
      "text/plain": [
       "  PassengerId HomePlanet CryoSleep  Cabin  Destination   Age    VIP  \\\n",
       "0     0001_01     Europa     False  B/0/P  TRAPPIST-1e  39.0  False   \n",
       "1     0002_01      Earth     False  F/0/S  TRAPPIST-1e  24.0  False   \n",
       "2     0003_01     Europa     False  A/0/S  TRAPPIST-1e  58.0   True   \n",
       "3     0003_02     Europa     False  A/0/S  TRAPPIST-1e  33.0  False   \n",
       "4     0004_01      Earth     False  F/1/S  TRAPPIST-1e  16.0  False   \n",
       "\n",
       "   RoomService  FoodCourt  ShoppingMall     Spa  VRDeck               Name  \\\n",
       "0          0.0        0.0           0.0     0.0     0.0    Maham Ofracculy   \n",
       "1        109.0        9.0          25.0   549.0    44.0       Juanna Vines   \n",
       "2         43.0     3576.0           0.0  6715.0    49.0      Altark Susent   \n",
       "3          0.0     1283.0         371.0  3329.0   193.0       Solam Susent   \n",
       "4        303.0       70.0         151.0   565.0     2.0  Willy Santantines   \n",
       "\n",
       "  Transported  \n",
       "0       False  \n",
       "1        True  \n",
       "2       False  \n",
       "3       False  \n",
       "4        True  "
      ]
     },
     "execution_count": 145,
     "metadata": {},
     "output_type": "execute_result"
    }
   ],
   "source": [
    "df.head()"
   ]
  },
  {
   "cell_type": "markdown",
   "metadata": {},
   "source": [
    "# Feature Engineering"
   ]
  },
  {
   "cell_type": "code",
   "execution_count": 146,
   "metadata": {},
   "outputs": [],
   "source": [
    "df['PassengerGroup'] = df['PassengerId'].apply(lambda x: x.split('_')[0])\n",
    "\n",
    "group_size = df.groupby('PassengerGroup').size().reset_index(name='GroupSize')\n",
    "df = df.merge(group_size, on='PassengerGroup')\n",
    "\n",
    "df['Solo'] = df['GroupSize'].apply(lambda x: 1 if x == 1 else 0)\n",
    "\n",
    "df['LastName'] = df['Name'].apply(lambda x: x.split(' ')[1] if not pd.isna(x) else np.nan)"
   ]
  },
  {
   "cell_type": "markdown",
   "metadata": {},
   "source": [
    "# Null Values"
   ]
  },
  {
   "cell_type": "markdown",
   "metadata": {},
   "source": [
    "## HomePlanet\n",
    "\n",
    "- Check for passengers in same PassengerGroup\n",
    "- Check for passengers with same surname\n",
    "- Use mode to imput"
   ]
  },
  {
   "cell_type": "code",
   "execution_count": 147,
   "metadata": {},
   "outputs": [
    {
     "data": {
      "text/plain": [
       "'The number of missing HomePlanet Values before is: 288'"
      ]
     },
     "metadata": {},
     "output_type": "display_data"
    },
    {
     "name": "stderr",
     "output_type": "stream",
     "text": [
      "/tmp/ipykernel_3434/3920154015.py:3: FutureWarning: Downcasting object dtype arrays on .fillna, .ffill, .bfill is deprecated and will change in a future version. Call result.infer_objects(copy=False) instead. To opt-in to the future behavior, set `pd.set_option('future.no_silent_downcasting', True)`\n",
      "  df['HomePlanet'] = df.groupby('PassengerGroup')['HomePlanet'].transform(lambda x: x.fillna(x.mode()[0] if not x.mode().empty else np.nan))\n"
     ]
    },
    {
     "data": {
      "text/plain": [
       "'The number of missing HomePlanet Values after is: 157'"
      ]
     },
     "metadata": {},
     "output_type": "display_data"
    }
   ],
   "source": [
    "display(f'The number of missing HomePlanet Values before is: {df['HomePlanet'].isna().sum()}')\n",
    "\n",
    "df['HomePlanet'] = df.groupby('PassengerGroup')['HomePlanet'].transform(lambda x: x.fillna(x.mode()[0] if not x.mode().empty else np.nan))\n",
    "\n",
    "display(f'The number of missing HomePlanet Values after is: {df['HomePlanet'].isna().sum()}')"
   ]
  },
  {
   "cell_type": "code",
   "execution_count": 148,
   "metadata": {},
   "outputs": [
    {
     "data": {
      "text/plain": [
       "'The number of missing HomePlanet Values after is: 13'"
      ]
     },
     "metadata": {},
     "output_type": "display_data"
    }
   ],
   "source": [
    "def impute_home_planet(row, df):\n",
    "    if pd.isna(row['HomePlanet']):\n",
    "        last_name = row['LastName']\n",
    "        same_last_name = df[(df['LastName'] == last_name) & (df['HomePlanet'].notna())]\n",
    "        if not same_last_name.empty:\n",
    "            return same_last_name['HomePlanet'].values[0]\n",
    "    return row['HomePlanet']\n",
    "\n",
    "\n",
    "\n",
    "df['HomePlanet'] = df.apply(lambda row: impute_home_planet(row, df), axis=1)\n",
    "\n",
    "display(f'The number of missing HomePlanet Values after is: {df['HomePlanet'].isna().sum()}')"
   ]
  },
  {
   "cell_type": "code",
   "execution_count": 149,
   "metadata": {},
   "outputs": [
    {
     "data": {
      "text/plain": [
       "'The number of missing HomePlanet Values after is: 0'"
      ]
     },
     "metadata": {},
     "output_type": "display_data"
    }
   ],
   "source": [
    "df['HomePlanet'] = df['HomePlanet'].fillna(df['HomePlanet'].mode()[0])\n",
    "display(f'The number of missing HomePlanet Values after is: {df['HomePlanet'].isna().sum()}')"
   ]
  },
  {
   "cell_type": "markdown",
   "metadata": {},
   "source": [
    "## Destination\n",
    "\n",
    "- Check for passengers in same PassengerGroup\n",
    "- Check for passengers with same surname\n",
    "- Use mode to imput"
   ]
  },
  {
   "cell_type": "code",
   "execution_count": 150,
   "metadata": {},
   "outputs": [
    {
     "data": {
      "text/plain": [
       "'The number of missing Destination Values before is: 274'"
      ]
     },
     "metadata": {},
     "output_type": "display_data"
    },
    {
     "name": "stderr",
     "output_type": "stream",
     "text": [
      "/tmp/ipykernel_3434/305662106.py:3: FutureWarning: Downcasting object dtype arrays on .fillna, .ffill, .bfill is deprecated and will change in a future version. Call result.infer_objects(copy=False) instead. To opt-in to the future behavior, set `pd.set_option('future.no_silent_downcasting', True)`\n",
      "  df['Destination'] = df.groupby('PassengerGroup')['Destination'].transform(lambda x: x.fillna(x.mode()[0] if not x.mode().empty else np.nan))\n"
     ]
    },
    {
     "data": {
      "text/plain": [
       "'The number of missing Destination Values after is: 154'"
      ]
     },
     "metadata": {},
     "output_type": "display_data"
    }
   ],
   "source": [
    "display(f'The number of missing Destination Values before is: {df['Destination'].isna().sum()}')\n",
    "\n",
    "df['Destination'] = df.groupby('PassengerGroup')['Destination'].transform(lambda x: x.fillna(x.mode()[0] if not x.mode().empty else np.nan))\n",
    "\n",
    "display(f'The number of missing Destination Values after is: {df['Destination'].isna().sum()}')"
   ]
  },
  {
   "cell_type": "code",
   "execution_count": 151,
   "metadata": {},
   "outputs": [
    {
     "data": {
      "text/plain": [
       "'The number of missing Destination Values after is: 6'"
      ]
     },
     "metadata": {},
     "output_type": "display_data"
    }
   ],
   "source": [
    "def impute_destination(row, df):\n",
    "    if pd.isna(row['Destination']):\n",
    "        last_name = row['LastName']\n",
    "        same_last_name = df[(df['LastName'] == last_name) & (df['Destination'].notna())]\n",
    "        if not same_last_name.empty:\n",
    "            return same_last_name['Destination'].values[0]\n",
    "    return row['Destination']\n",
    "\n",
    "\n",
    "\n",
    "df['Destination'] = df.apply(lambda row: impute_destination(row, df), axis=1)\n",
    "\n",
    "display(f'The number of missing Destination Values after is: {df['Destination'].isna().sum()}')"
   ]
  },
  {
   "cell_type": "code",
   "execution_count": 152,
   "metadata": {},
   "outputs": [
    {
     "data": {
      "text/plain": [
       "'The number of missing Destination Values after is: 0'"
      ]
     },
     "metadata": {},
     "output_type": "display_data"
    }
   ],
   "source": [
    "df['Destination'] = df['Destination'].fillna(df['Destination'].mode()[0])\n",
    "display(f'The number of missing Destination Values after is: {df['Destination'].isna().sum()}')"
   ]
  },
  {
   "cell_type": "markdown",
   "metadata": {},
   "source": [
    "## VIP"
   ]
  },
  {
   "cell_type": "code",
   "execution_count": 153,
   "metadata": {},
   "outputs": [],
   "source": [
    "df['TotalSpend'] = df[['RoomService', 'FoodCourt', 'ShoppingMall', 'Spa', 'VRDeck']].sum(axis=1)"
   ]
  },
  {
   "cell_type": "code",
   "execution_count": 154,
   "metadata": {},
   "outputs": [
    {
     "data": {
      "text/plain": [
       "((273, 19), (12401, 19))"
      ]
     },
     "execution_count": 154,
     "metadata": {},
     "output_type": "execute_result"
    }
   ],
   "source": [
    "df_vip = df[df['VIP'] == True]\n",
    "df_no_vip = df[df['VIP'] == False]\n",
    "\n",
    "df_vip.shape, df_no_vip.shape"
   ]
  },
  {
   "cell_type": "code",
   "execution_count": 155,
   "metadata": {},
   "outputs": [
    {
     "data": {
      "text/plain": [
       "'The mean amount of money spent by VIPs was: 4595.542124542125'"
      ]
     },
     "execution_count": 155,
     "metadata": {},
     "output_type": "execute_result"
    }
   ],
   "source": [
    "f'The mean amount of money spent by VIPs was: {df_vip['TotalSpend'].mean()}'"
   ]
  },
  {
   "cell_type": "code",
   "execution_count": 156,
   "metadata": {},
   "outputs": [],
   "source": [
    "vip_null_mask = df['VIP'].isna()\n",
    "\n",
    "df.loc[vip_null_mask, 'VIP'] = df.loc[vip_null_mask, 'TotalSpend'] >= 4000"
   ]
  },
  {
   "cell_type": "markdown",
   "metadata": {},
   "source": [
    "## Cabin\n",
    "\n",
    "- This can be split into three (Deck, Num, Side)"
   ]
  },
  {
   "cell_type": "code",
   "execution_count": 157,
   "metadata": {},
   "outputs": [
    {
     "data": {
      "text/html": [
       "<div>\n",
       "<style scoped>\n",
       "    .dataframe tbody tr th:only-of-type {\n",
       "        vertical-align: middle;\n",
       "    }\n",
       "\n",
       "    .dataframe tbody tr th {\n",
       "        vertical-align: top;\n",
       "    }\n",
       "\n",
       "    .dataframe thead th {\n",
       "        text-align: right;\n",
       "    }\n",
       "</style>\n",
       "<table border=\"1\" class=\"dataframe\">\n",
       "  <thead>\n",
       "    <tr style=\"text-align: right;\">\n",
       "      <th></th>\n",
       "      <th>PassengerId</th>\n",
       "      <th>HomePlanet</th>\n",
       "      <th>CryoSleep</th>\n",
       "      <th>Cabin</th>\n",
       "      <th>Destination</th>\n",
       "      <th>Age</th>\n",
       "      <th>VIP</th>\n",
       "      <th>RoomService</th>\n",
       "      <th>FoodCourt</th>\n",
       "      <th>ShoppingMall</th>\n",
       "      <th>...</th>\n",
       "      <th>Name</th>\n",
       "      <th>Transported</th>\n",
       "      <th>PassengerGroup</th>\n",
       "      <th>GroupSize</th>\n",
       "      <th>Solo</th>\n",
       "      <th>LastName</th>\n",
       "      <th>TotalSpend</th>\n",
       "      <th>Deck</th>\n",
       "      <th>Num</th>\n",
       "      <th>Side</th>\n",
       "    </tr>\n",
       "  </thead>\n",
       "  <tbody>\n",
       "    <tr>\n",
       "      <th>0</th>\n",
       "      <td>0001_01</td>\n",
       "      <td>Europa</td>\n",
       "      <td>False</td>\n",
       "      <td>B/0/P</td>\n",
       "      <td>TRAPPIST-1e</td>\n",
       "      <td>39.0</td>\n",
       "      <td>False</td>\n",
       "      <td>0.0</td>\n",
       "      <td>0.0</td>\n",
       "      <td>0.0</td>\n",
       "      <td>...</td>\n",
       "      <td>Maham Ofracculy</td>\n",
       "      <td>False</td>\n",
       "      <td>0001</td>\n",
       "      <td>1</td>\n",
       "      <td>1</td>\n",
       "      <td>Ofracculy</td>\n",
       "      <td>0.0</td>\n",
       "      <td>B</td>\n",
       "      <td>0</td>\n",
       "      <td>P</td>\n",
       "    </tr>\n",
       "    <tr>\n",
       "      <th>1</th>\n",
       "      <td>0002_01</td>\n",
       "      <td>Earth</td>\n",
       "      <td>False</td>\n",
       "      <td>F/0/S</td>\n",
       "      <td>TRAPPIST-1e</td>\n",
       "      <td>24.0</td>\n",
       "      <td>False</td>\n",
       "      <td>109.0</td>\n",
       "      <td>9.0</td>\n",
       "      <td>25.0</td>\n",
       "      <td>...</td>\n",
       "      <td>Juanna Vines</td>\n",
       "      <td>True</td>\n",
       "      <td>0002</td>\n",
       "      <td>1</td>\n",
       "      <td>1</td>\n",
       "      <td>Vines</td>\n",
       "      <td>736.0</td>\n",
       "      <td>F</td>\n",
       "      <td>0</td>\n",
       "      <td>S</td>\n",
       "    </tr>\n",
       "    <tr>\n",
       "      <th>2</th>\n",
       "      <td>0003_01</td>\n",
       "      <td>Europa</td>\n",
       "      <td>False</td>\n",
       "      <td>A/0/S</td>\n",
       "      <td>TRAPPIST-1e</td>\n",
       "      <td>58.0</td>\n",
       "      <td>True</td>\n",
       "      <td>43.0</td>\n",
       "      <td>3576.0</td>\n",
       "      <td>0.0</td>\n",
       "      <td>...</td>\n",
       "      <td>Altark Susent</td>\n",
       "      <td>False</td>\n",
       "      <td>0003</td>\n",
       "      <td>2</td>\n",
       "      <td>0</td>\n",
       "      <td>Susent</td>\n",
       "      <td>10383.0</td>\n",
       "      <td>A</td>\n",
       "      <td>0</td>\n",
       "      <td>S</td>\n",
       "    </tr>\n",
       "  </tbody>\n",
       "</table>\n",
       "<p>3 rows × 22 columns</p>\n",
       "</div>"
      ],
      "text/plain": [
       "  PassengerId HomePlanet CryoSleep  Cabin  Destination   Age    VIP  \\\n",
       "0     0001_01     Europa     False  B/0/P  TRAPPIST-1e  39.0  False   \n",
       "1     0002_01      Earth     False  F/0/S  TRAPPIST-1e  24.0  False   \n",
       "2     0003_01     Europa     False  A/0/S  TRAPPIST-1e  58.0   True   \n",
       "\n",
       "   RoomService  FoodCourt  ShoppingMall  ...             Name  Transported  \\\n",
       "0          0.0        0.0           0.0  ...  Maham Ofracculy        False   \n",
       "1        109.0        9.0          25.0  ...     Juanna Vines         True   \n",
       "2         43.0     3576.0           0.0  ...    Altark Susent        False   \n",
       "\n",
       "  PassengerGroup GroupSize Solo   LastName  TotalSpend Deck  Num Side  \n",
       "0           0001         1    1  Ofracculy         0.0    B    0    P  \n",
       "1           0002         1    1      Vines       736.0    F    0    S  \n",
       "2           0003         2    0     Susent     10383.0    A    0    S  \n",
       "\n",
       "[3 rows x 22 columns]"
      ]
     },
     "execution_count": 157,
     "metadata": {},
     "output_type": "execute_result"
    }
   ],
   "source": [
    "df[['Deck', 'Num', 'Side']] = df['Cabin'].str.split('/', expand=True)\n",
    "\n",
    "df.head(3)"
   ]
  },
  {
   "cell_type": "markdown",
   "metadata": {},
   "source": [
    "### Deck"
   ]
  },
  {
   "cell_type": "code",
   "execution_count": 158,
   "metadata": {},
   "outputs": [
    {
     "data": {
      "text/plain": [
       "'The number of missing Deck Values before is: 299'"
      ]
     },
     "metadata": {},
     "output_type": "display_data"
    },
    {
     "name": "stderr",
     "output_type": "stream",
     "text": [
      "/tmp/ipykernel_3434/530661642.py:3: FutureWarning: Downcasting object dtype arrays on .fillna, .ffill, .bfill is deprecated and will change in a future version. Call result.infer_objects(copy=False) instead. To opt-in to the future behavior, set `pd.set_option('future.no_silent_downcasting', True)`\n",
      "  df['Deck'] = df.groupby('PassengerGroup')['Deck'].transform(lambda x: x.fillna(x.mode()[0] if not x.mode().empty else np.nan))\n"
     ]
    },
    {
     "data": {
      "text/plain": [
       "'The number of missing Deck Values after is: 162'"
      ]
     },
     "metadata": {},
     "output_type": "display_data"
    },
    {
     "data": {
      "text/plain": [
       "'The number of missing Deck values after first imputation is: 5'"
      ]
     },
     "metadata": {},
     "output_type": "display_data"
    },
    {
     "name": "stderr",
     "output_type": "stream",
     "text": [
      "/tmp/ipykernel_3434/530661642.py:24: FutureWarning: A value is trying to be set on a copy of a DataFrame or Series through chained assignment using an inplace method.\n",
      "The behavior will change in pandas 3.0. This inplace method will never work because the intermediate object on which we are setting values always behaves as a copy.\n",
      "\n",
      "For example, when doing 'df[col].method(value, inplace=True)', try using 'df.method({col: value}, inplace=True)' or df[col] = df[col].method(value) instead, to perform the operation inplace on the original object.\n",
      "\n",
      "\n",
      "  df['Deck'].fillna(mode_deck, inplace=True)\n"
     ]
    },
    {
     "data": {
      "text/plain": [
       "'The number of missing Deck values after imputing with mode is: 0'"
      ]
     },
     "metadata": {},
     "output_type": "display_data"
    }
   ],
   "source": [
    "display(f'The number of missing Deck Values before is: {df['Deck'].isna().sum()}')\n",
    "\n",
    "df['Deck'] = df.groupby('PassengerGroup')['Deck'].transform(lambda x: x.fillna(x.mode()[0] if not x.mode().empty else np.nan))\n",
    "\n",
    "display(f'The number of missing Deck Values after is: {df['Deck'].isna().sum()}')\n",
    "\n",
    "def impute_deck(row, df):\n",
    "    if pd.isna(row['Deck']):\n",
    "        last_name = row['LastName']\n",
    "        same_last_name = df[(df['LastName'] == last_name) & (df['Deck'].notna())]\n",
    "        if not same_last_name.empty:\n",
    "            return same_last_name['Deck'].values[0]\n",
    "    return row['Deck']\n",
    "\n",
    "\n",
    "\n",
    "df['Deck'] = df.apply(lambda row: impute_deck(row, df), axis=1)\n",
    "\n",
    "missing_decks_after_first_imputation = df['Deck'].isna().sum()\n",
    "display(f'The number of missing Deck values after first imputation is: {missing_decks_after_first_imputation}')\n",
    "\n",
    "if missing_decks_after_first_imputation > 0:\n",
    "    mode_deck = df['Deck'].mode()[0]\n",
    "    df['Deck'].fillna(mode_deck, inplace=True)\n",
    "\n",
    "missing_decks_after_mode_imputation = df['Deck'].isna().sum()\n",
    "display(f'The number of missing Deck values after imputing with mode is: {missing_decks_after_mode_imputation}')"
   ]
  },
  {
   "cell_type": "code",
   "execution_count": 159,
   "metadata": {},
   "outputs": [
    {
     "data": {
      "image/png": "[encoded data removed]",
      "text/plain": [
       "<Figure size 1400x600 with 2 Axes>"
      ]
     },
     "metadata": {},
     "output_type": "display_data"
    }
   ],
   "source": [
    "deck_transport = df.groupby(['Deck', 'Transported']).size().unstack(fill_value=0)\n",
    "\n",
    "deck_transport_norm = deck_transport.div(deck_transport.sum(axis=1), axis=0)\n",
    "\n",
    "fig, ax = plt.subplots(1, 2, figsize=(14, 6))\n",
    "\n",
    "deck_counts = df['Deck'].value_counts().sort_index()\n",
    "deck_counts.plot(kind='bar', ax=ax[0])\n",
    "ax[0].set_title('Counts of Passengers by Deck')\n",
    "ax[0].set_xlabel('Deck')\n",
    "ax[0].set_ylabel('Count')\n",
    "\n",
    "deck_transport_norm.plot(kind='bar', stacked=True, ax=ax[1])\n",
    "ax[1].set_title('Proportions of Transported by Deck')\n",
    "ax[1].set_xlabel('Deck')\n",
    "ax[1].set_ylabel('Proportion')\n",
    "ax[1].legend(title='Transported')\n",
    "\n",
    "ax[1].axhline(0.5, color='red', linestyle='--', linewidth=1)\n",
    "\n",
    "plt.tight_layout()\n",
    "plt.show()"
   ]
  },
  {
   "cell_type": "markdown",
   "metadata": {},
   "source": [
    "**Notes**\n",
    "\n",
    "Passengers in Cabins B and C have a higher chance of being Transported\n",
    "Passengers in E and T have less chance of being transported\n",
    "\n",
    "*Decision*\n",
    "\n",
    "- Group Cabins by chance of Transported\n",
    "\n",
    "    - **low** - *E, T*\n",
    "    - **medium** - *A, D, F, G*\n",
    "    - **high** - *B, C*\n"
   ]
  },
  {
   "cell_type": "code",
   "execution_count": 160,
   "metadata": {},
   "outputs": [
    {
     "data": {
      "image/png": "[encoded data removed]",
      "text/plain": [
       "<Figure size 1400x600 with 2 Axes>"
      ]
     },
     "metadata": {},
     "output_type": "display_data"
    }
   ],
   "source": [
    "df['Deck'] = df['Deck'].map({'A': 'Medium', 'B': 'High', 'C': 'High', 'D': 'Medium', 'E': 'Low', 'F': 'Medium', 'G': 'Medium', 'T': 'Low'})\n",
    "\n",
    "deck_transport = df.groupby(['Deck', 'Transported']).size().unstack(fill_value=0)\n",
    "\n",
    "deck_transport_norm = deck_transport.div(deck_transport.sum(axis=1), axis=0)\n",
    "\n",
    "fig, ax = plt.subplots(1, 2, figsize=(14, 6))\n",
    "\n",
    "deck_counts = df['Deck'].value_counts().sort_index()\n",
    "deck_counts.plot(kind='bar', ax=ax[0])\n",
    "ax[0].set_title('Counts of Passengers by Deck')\n",
    "ax[0].set_xlabel('Deck')\n",
    "ax[0].set_ylabel('Count')\n",
    "\n",
    "deck_transport_norm.plot(kind='bar', stacked=True, ax=ax[1])\n",
    "ax[1].set_title('Proportions of Transported by Deck')\n",
    "ax[1].set_xlabel('Deck')\n",
    "ax[1].set_ylabel('Proportion')\n",
    "ax[1].legend(title='Transported')\n",
    "\n",
    "ax[1].axhline(0.5, color='red', linestyle='--', linewidth=1)\n",
    "\n",
    "plt.tight_layout()\n",
    "plt.show()"
   ]
  },
  {
   "cell_type": "markdown",
   "metadata": {},
   "source": [
    "### Side"
   ]
  },
  {
   "cell_type": "code",
   "execution_count": 161,
   "metadata": {},
   "outputs": [
    {
     "data": {
      "text/plain": [
       "'The number of missing Side Values before is: 299'"
      ]
     },
     "metadata": {},
     "output_type": "display_data"
    },
    {
     "name": "stderr",
     "output_type": "stream",
     "text": [
      "/tmp/ipykernel_3434/923372094.py:3: FutureWarning: Downcasting object dtype arrays on .fillna, .ffill, .bfill is deprecated and will change in a future version. Call result.infer_objects(copy=False) instead. To opt-in to the future behavior, set `pd.set_option('future.no_silent_downcasting', True)`\n",
      "  df['Side'] = df.groupby('PassengerGroup')['Side'].transform(lambda x: x.fillna(x.mode()[0] if not x.mode().empty else np.nan))\n"
     ]
    },
    {
     "data": {
      "text/plain": [
       "'The number of missing Side Values after is: 162'"
      ]
     },
     "metadata": {},
     "output_type": "display_data"
    },
    {
     "data": {
      "text/plain": [
       "'The number of missing Side values after first imputation is: 5'"
      ]
     },
     "metadata": {},
     "output_type": "display_data"
    },
    {
     "name": "stderr",
     "output_type": "stream",
     "text": [
      "/tmp/ipykernel_3434/923372094.py:21: FutureWarning: A value is trying to be set on a copy of a DataFrame or Series through chained assignment using an inplace method.\n",
      "The behavior will change in pandas 3.0. This inplace method will never work because the intermediate object on which we are setting values always behaves as a copy.\n",
      "\n",
      "For example, when doing 'df[col].method(value, inplace=True)', try using 'df.method({col: value}, inplace=True)' or df[col] = df[col].method(value) instead, to perform the operation inplace on the original object.\n",
      "\n",
      "\n",
      "  df['Side'].fillna(mode_sides, inplace=True)\n"
     ]
    },
    {
     "data": {
      "text/plain": [
       "'The number of missing Sides values after imputing with mode is: 0'"
      ]
     },
     "metadata": {},
     "output_type": "display_data"
    }
   ],
   "source": [
    "display(f'The number of missing Side Values before is: {df['Side'].isna().sum()}')\n",
    "\n",
    "df['Side'] = df.groupby('PassengerGroup')['Side'].transform(lambda x: x.fillna(x.mode()[0] if not x.mode().empty else np.nan))\n",
    "\n",
    "display(f'The number of missing Side Values after is: {df['Side'].isna().sum()}')\n",
    "\n",
    "def impute_side(row, df):\n",
    "    if pd.isna(row['Side']):\n",
    "        last_name = row['LastName']\n",
    "        same_last_name = df[(df['LastName'] == last_name) & (df['Side'].notna())]\n",
    "        if not same_last_name.empty:\n",
    "            return same_last_name['Side'].values[0]\n",
    "    return row['Side']\n",
    "\n",
    "df['Side'] = df.apply(lambda row: impute_side(row, df), axis=1)\n",
    "missing_sides_after_first_imputation = df['Side'].isna().sum()\n",
    "display(f'The number of missing Side values after first imputation is: {missing_sides_after_first_imputation}')\n",
    "\n",
    "if missing_sides_after_first_imputation > 0:\n",
    "    mode_sides = df['Side'].mode()[0]\n",
    "    df['Side'].fillna(mode_sides, inplace=True)\n",
    "\n",
    "missing_sides_after_mode_imputation = df['Side'].isna().sum()\n",
    "display(f'The number of missing Sides values after imputing with mode is: {missing_sides_after_mode_imputation}')"
   ]
  },
  {
   "cell_type": "code",
   "execution_count": 162,
   "metadata": {},
   "outputs": [
    {
     "data": {
      "image/png": "[encoded data removed]",
      "text/plain": [
       "<Figure size 1400x600 with 2 Axes>"
      ]
     },
     "metadata": {},
     "output_type": "display_data"
    }
   ],
   "source": [
    "side_transport = df.groupby(['Side', 'Transported']).size().unstack(fill_value=0)\n",
    "\n",
    "side_transport_norm = side_transport.div(side_transport.sum(axis=1), axis=0)\n",
    "\n",
    "fig, ax = plt.subplots(1, 2, figsize=(14, 6))\n",
    "\n",
    "side_counts = df['Side'].value_counts().sort_index()\n",
    "side_counts.plot(kind='bar', ax=ax[0])\n",
    "ax[0].set_title('Counts of Passengers by Side')\n",
    "ax[0].set_xlabel('Side')\n",
    "ax[0].set_ylabel('Count')\n",
    "\n",
    "side_transport_norm.plot(kind='bar', stacked=True, ax=ax[1])\n",
    "ax[1].set_title('Proportions of Transported by Side')\n",
    "ax[1].set_xlabel('Side')\n",
    "ax[1].set_ylabel('Proportion')\n",
    "ax[1].legend(title='Transported')\n",
    "\n",
    "ax[1].axhline(0.5, color='red', linestyle='--', linewidth=1)\n",
    "\n",
    "plt.tight_layout()\n",
    "plt.show()"
   ]
  },
  {
   "cell_type": "markdown",
   "metadata": {},
   "source": [
    "**Notes**\n",
    "\n",
    "Passengers on Starboard side have a higher chance of being Transported\n",
    "Passengers on Port side have less chance of being transported\n"
   ]
  },
  {
   "cell_type": "markdown",
   "metadata": {},
   "source": [
    "### Num"
   ]
  },
  {
   "cell_type": "code",
   "execution_count": 164,
   "metadata": {},
   "outputs": [
    {
     "name": "stdout",
     "output_type": "stream",
     "text": [
      "The number of missing Num values before is: 0\n",
      "The number of missing Num values after is: 0\n",
      "The number of missing Num values after first imputation is: 0\n",
      "The number of missing Num values after imputing with mode is: 0\n"
     ]
    }
   ],
   "source": [
    "print(f'The number of missing Num values before is: {df[\"Num\"].isna().sum()}')\n",
    "\n",
    "df['Num'] = df.groupby('PassengerGroup')['Num'].transform(lambda x: x.fillna(x.mode()[0] if not x.mode().empty else np.nan))\n",
    "\n",
    "print(f'The number of missing Num values after is: {df[\"Num\"].isna().sum()}')\n",
    "\n",
    "\n",
    "def impute_num(row, df):\n",
    "    if pd.isna(row['Num']):\n",
    "        last_name = row['LastName']\n",
    "        same_last_name = df[(df['LastName'] == last_name) & (df['Num'].notna())]\n",
    "        if not same_last_name.empty:\n",
    "            return same_last_name['Num'].values[0]\n",
    "    return row['Num']\n",
    "\n",
    "df['Num'] = df.apply(lambda row: impute_num(row, df), axis=1)\n",
    "\n",
    "missing_num_after_first_imputation = df['Num'].isna().sum()\n",
    "print(f'The number of missing Num values after first imputation is: {missing_num_after_first_imputation}')\n",
    "\n",
    "if missing_num_after_first_imputation > 0:\n",
    "    mode_num = df['Num'].mode()[0]\n",
    "    df['Num'].fillna(mode_num, inplace=True)\n",
    "\n",
    "missing_num_after_mode_imputation = df['Num'].isna().sum()\n",
    "print(f'The number of missing Num values after imputing with mode is: {missing_num_after_mode_imputation}')\n",
    "df['Num'] = df['Num'].astype(int)"
   ]
  },
  {
   "cell_type": "code",
   "execution_count": 165,
   "metadata": {},
   "outputs": [
    {
     "data": {
      "image/png": "[encoded data removed]",
      "text/plain": [
       "<Figure size 640x480 with 1 Axes>"
      ]
     },
     "metadata": {},
     "output_type": "display_data"
    }
   ],
   "source": [
    "df['Num'].hist(bins=10, edgecolor='black')\n",
    "plt.title('Histogram of Num')\n",
    "plt.xlabel('Num')\n",
    "plt.ylabel('Frequency')\n",
    "plt.show()"
   ]
  },
  {
   "cell_type": "code",
   "execution_count": 138,
   "metadata": {},
   "outputs": [
    {
     "data": {
      "text/plain": [
       "'306'"
      ]
     },
     "execution_count": 138,
     "metadata": {},
     "output_type": "execute_result"
    }
   ],
   "source": [
    "def cabin_deck_categorize(cabin_deck):\n",
    "    if cabin_deck == 'A':\n",
    "        return 0\n",
    "    elif cabin_deck == 'B':\n",
    "        return 1\n",
    "    elif cabin_deck == 'C':\n",
    "        return 2\n",
    "    elif cabin_deck == 'D':\n",
    "        return 3\n",
    "    elif cabin_deck == 'E':\n",
    "        return 4\n",
    "    elif cabin_deck == 'F':\n",
    "        return 5\n",
    "    elif cabin_deck == 'G':\n",
    "        return 6\n",
    "    else:\n",
    "        return 7\n",
    "    \n",
    "df_v7['Cabin_deckGroup'] = df_v7['Cabin_deck'].apply(lambda x: cabin_deck_categorize(x))"
   ]
  }
 ],
 "metadata": {
  "kernelspec": {
   "display_name": "machine_learning",
   "language": "python",
   "name": "python3"
  },
  "language_info": {
   "codemirror_mode": {
    "name": "ipython",
    "version": 3
   },
   "file_extension": ".py",
   "mimetype": "text/x-python",
   "name": "python",
   "nbconvert_exporter": "python",
   "pygments_lexer": "ipython3",
   "version": "3.12.0"
  }
 },
 "nbformat": 4,
 "nbformat_minor": 2
}
